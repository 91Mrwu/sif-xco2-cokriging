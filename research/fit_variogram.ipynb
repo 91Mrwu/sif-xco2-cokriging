{
 "cells": [
  {
   "cell_type": "markdown",
   "metadata": {},
   "source": [
    "# Fit empirical (cross) (co)variogram by non-linear least squares optimization"
   ]
  },
  {
   "cell_type": "code",
   "execution_count": 17,
   "metadata": {},
   "outputs": [
    {
     "name": "stdout",
     "output_type": "stream",
     "text": [
      "The autoreload extension is already loaded. To reload it, use:\n",
      "  %reload_ext autoreload\n"
     ]
    }
   ],
   "source": [
    "%load_ext autoreload\n",
    "%autoreload 2"
   ]
  },
  {
   "cell_type": "code",
   "execution_count": 2,
   "metadata": {},
   "outputs": [],
   "source": [
    "import sys\n",
    "sys.path.insert(0, \"../src\")"
   ]
  },
  {
   "cell_type": "code",
   "execution_count": 3,
   "metadata": {},
   "outputs": [],
   "source": [
    "import numpy as np\n",
    "import pandas as pd\n",
    "import matplotlib.pyplot as plt\n",
    "\n",
    "import variogram as vgm"
   ]
  },
  {
   "cell_type": "code",
   "execution_count": 4,
   "metadata": {},
   "outputs": [],
   "source": [
    "# Analysis variables\n",
    "year = 2019\n",
    "tol = 500\n",
    "time_lag = 1"
   ]
  },
  {
   "cell_type": "code",
   "execution_count": 5,
   "metadata": {},
   "outputs": [
    {
     "data": {
      "text/html": [
       "<div>\n",
       "<style scoped>\n",
       "    .dataframe tbody tr th:only-of-type {\n",
       "        vertical-align: middle;\n",
       "    }\n",
       "\n",
       "    .dataframe tbody tr th {\n",
       "        vertical-align: top;\n",
       "    }\n",
       "\n",
       "    .dataframe thead th {\n",
       "        text-align: right;\n",
       "    }\n",
       "</style>\n",
       "<table border=\"1\" class=\"dataframe\">\n",
       "  <thead>\n",
       "    <tr style=\"text-align: right;\">\n",
       "      <th></th>\n",
       "      <th>lat</th>\n",
       "      <th>lon</th>\n",
       "      <th>time</th>\n",
       "      <th>sif_res</th>\n",
       "      <th>xco2_res</th>\n",
       "    </tr>\n",
       "  </thead>\n",
       "  <tbody>\n",
       "    <tr>\n",
       "      <th>52</th>\n",
       "      <td>12.5</td>\n",
       "      <td>-92.5</td>\n",
       "      <td>2019-01-01</td>\n",
       "      <td>-0.542864</td>\n",
       "      <td>-0.165133</td>\n",
       "    </tr>\n",
       "    <tr>\n",
       "      <th>53</th>\n",
       "      <td>12.5</td>\n",
       "      <td>-92.5</td>\n",
       "      <td>2019-02-01</td>\n",
       "      <td>-1.047602</td>\n",
       "      <td>0.325714</td>\n",
       "    </tr>\n",
       "    <tr>\n",
       "      <th>54</th>\n",
       "      <td>12.5</td>\n",
       "      <td>-92.5</td>\n",
       "      <td>2019-03-01</td>\n",
       "      <td>-1.555631</td>\n",
       "      <td>0.840372</td>\n",
       "    </tr>\n",
       "    <tr>\n",
       "      <th>55</th>\n",
       "      <td>12.5</td>\n",
       "      <td>-92.5</td>\n",
       "      <td>2019-04-01</td>\n",
       "      <td>-0.168187</td>\n",
       "      <td>1.615102</td>\n",
       "    </tr>\n",
       "    <tr>\n",
       "      <th>56</th>\n",
       "      <td>12.5</td>\n",
       "      <td>-92.5</td>\n",
       "      <td>2019-05-01</td>\n",
       "      <td>0.235828</td>\n",
       "      <td>1.042413</td>\n",
       "    </tr>\n",
       "  </tbody>\n",
       "</table>\n",
       "</div>"
      ],
      "text/plain": [
       "     lat   lon       time   sif_res  xco2_res\n",
       "52  12.5 -92.5 2019-01-01 -0.542864 -0.165133\n",
       "53  12.5 -92.5 2019-02-01 -1.047602  0.325714\n",
       "54  12.5 -92.5 2019-03-01 -1.555631  0.840372\n",
       "55  12.5 -92.5 2019-04-01 -0.168187  1.615102\n",
       "56  12.5 -92.5 2019-05-01  0.235828  1.042413"
      ]
     },
     "execution_count": 5,
     "metadata": {},
     "output_type": "execute_result"
    }
   ],
   "source": [
    "# Get data: detrended 5-degree monthly average, cont. US\n",
    "df = pd.read_csv(\"../data/exp_pro/OCO2_5deg_monthly_conus.csv\")\n",
    "\n",
    "# Isolate year\n",
    "df[\"time\"] = pd.to_datetime(df[\"time\"])\n",
    "df = df[df.time.dt.year == year]\n",
    "\n",
    "# Standardize data locally\n",
    "columns = [\"xco2_res\", \"sif_res\"]\n",
    "df[columns] = df.groupby([\"lon\", \"lat\"])[columns].transform(lambda x: (x - x.mean()) / x.std())\n",
    "\n",
    "df.head()"
   ]
  },
  {
   "cell_type": "code",
   "execution_count": 6,
   "metadata": {},
   "outputs": [],
   "source": [
    "space_lags = np.linspace(0, 5e3, 50)\n",
    "\n",
    "df_vgm = vgm.empirical_variogram(\n",
    "    df,\n",
    "    [\"xco2_res\", \"sif_res\"],\n",
    "    space_lags,\n",
    "    tol=tol,\n",
    "    time_lag=0,\n",
    "    cross=False,\n",
    ")\n",
    "df_cov = vgm.empirical_variogram(\n",
    "    df,\n",
    "    [\"xco2_res\", \"sif_res\"],\n",
    "    space_lags,\n",
    "    tol=tol,\n",
    "    time_lag=time_lag,\n",
    "    covariogram=True,\n",
    ")"
   ]
  },
  {
   "cell_type": "code",
   "execution_count": 18,
   "metadata": {},
   "outputs": [
    {
     "data": {
      "text/html": [
       "<div>\n",
       "<style scoped>\n",
       "    .dataframe tbody tr th:only-of-type {\n",
       "        vertical-align: middle;\n",
       "    }\n",
       "\n",
       "    .dataframe tbody tr th {\n",
       "        vertical-align: top;\n",
       "    }\n",
       "\n",
       "    .dataframe thead th {\n",
       "        text-align: right;\n",
       "    }\n",
       "</style>\n",
       "<table border=\"1\" class=\"dataframe\">\n",
       "  <thead>\n",
       "    <tr style=\"text-align: right;\">\n",
       "      <th></th>\n",
       "      <th>lag</th>\n",
       "      <th>xco2_res</th>\n",
       "      <th>sif_res</th>\n",
       "      <th>xco2_res:sif_res</th>\n",
       "      <th>cross_fit</th>\n",
       "    </tr>\n",
       "  </thead>\n",
       "  <tbody>\n",
       "    <tr>\n",
       "      <th>0</th>\n",
       "      <td>0.000000</td>\n",
       "      <td>0.726492</td>\n",
       "      <td>0.609633</td>\n",
       "      <td>-0.250225</td>\n",
       "      <td>1.000000e-02</td>\n",
       "    </tr>\n",
       "    <tr>\n",
       "      <th>1</th>\n",
       "      <td>102.040816</td>\n",
       "      <td>0.732264</td>\n",
       "      <td>0.572802</td>\n",
       "      <td>-0.245046</td>\n",
       "      <td>5.122701e-274</td>\n",
       "    </tr>\n",
       "    <tr>\n",
       "      <th>2</th>\n",
       "      <td>204.081633</td>\n",
       "      <td>0.734790</td>\n",
       "      <td>0.592201</td>\n",
       "      <td>-0.259037</td>\n",
       "      <td>0.000000e+00</td>\n",
       "    </tr>\n",
       "    <tr>\n",
       "      <th>3</th>\n",
       "      <td>306.122449</td>\n",
       "      <td>0.732225</td>\n",
       "      <td>0.553962</td>\n",
       "      <td>-0.245178</td>\n",
       "      <td>0.000000e+00</td>\n",
       "    </tr>\n",
       "    <tr>\n",
       "      <th>4</th>\n",
       "      <td>408.163265</td>\n",
       "      <td>0.732516</td>\n",
       "      <td>0.560531</td>\n",
       "      <td>-0.246184</td>\n",
       "      <td>0.000000e+00</td>\n",
       "    </tr>\n",
       "  </tbody>\n",
       "</table>\n",
       "</div>"
      ],
      "text/plain": [
       "          lag  xco2_res   sif_res  xco2_res:sif_res      cross_fit\n",
       "0    0.000000  0.726492  0.609633         -0.250225   1.000000e-02\n",
       "1  102.040816  0.732264  0.572802         -0.245046  5.122701e-274\n",
       "2  204.081633  0.734790  0.592201         -0.259037   0.000000e+00\n",
       "3  306.122449  0.732225  0.553962         -0.245178   0.000000e+00\n",
       "4  408.163265  0.732516  0.560531         -0.246184   0.000000e+00"
      ]
     },
     "execution_count": 18,
     "metadata": {},
     "output_type": "execute_result"
    }
   ],
   "source": [
    "df_cov.head()"
   ]
  },
  {
   "cell_type": "code",
   "execution_count": 16,
   "metadata": {},
   "outputs": [
    {
     "name": "stdout",
     "output_type": "stream",
     "text": [
      "[7.52535450e-01 1.52428222e+03 3.43726673e-01]\n"
     ]
    },
    {
     "data": {
      "text/html": [
       "<div>\n",
       "<style scoped>\n",
       "    .dataframe tbody tr th:only-of-type {\n",
       "        vertical-align: middle;\n",
       "    }\n",
       "\n",
       "    .dataframe tbody tr th {\n",
       "        vertical-align: top;\n",
       "    }\n",
       "\n",
       "    .dataframe thead th {\n",
       "        text-align: right;\n",
       "    }\n",
       "</style>\n",
       "<table border=\"1\" class=\"dataframe\">\n",
       "  <thead>\n",
       "    <tr style=\"text-align: right;\">\n",
       "      <th></th>\n",
       "      <th>lag</th>\n",
       "      <th>xco2_res</th>\n",
       "      <th>sif_res</th>\n",
       "      <th>xco2_res:sif_res</th>\n",
       "      <th>cross_fit</th>\n",
       "    </tr>\n",
       "  </thead>\n",
       "  <tbody>\n",
       "    <tr>\n",
       "      <th>0</th>\n",
       "      <td>0.000000</td>\n",
       "      <td>0.726492</td>\n",
       "      <td>0.609633</td>\n",
       "      <td>-0.250225</td>\n",
       "      <td>1.000000e-02</td>\n",
       "    </tr>\n",
       "    <tr>\n",
       "      <th>1</th>\n",
       "      <td>102.040816</td>\n",
       "      <td>0.732264</td>\n",
       "      <td>0.572802</td>\n",
       "      <td>-0.245046</td>\n",
       "      <td>5.122701e-274</td>\n",
       "    </tr>\n",
       "    <tr>\n",
       "      <th>2</th>\n",
       "      <td>204.081633</td>\n",
       "      <td>0.734790</td>\n",
       "      <td>0.592201</td>\n",
       "      <td>-0.259037</td>\n",
       "      <td>0.000000e+00</td>\n",
       "    </tr>\n",
       "    <tr>\n",
       "      <th>3</th>\n",
       "      <td>306.122449</td>\n",
       "      <td>0.732225</td>\n",
       "      <td>0.553962</td>\n",
       "      <td>-0.245178</td>\n",
       "      <td>0.000000e+00</td>\n",
       "    </tr>\n",
       "    <tr>\n",
       "      <th>4</th>\n",
       "      <td>408.163265</td>\n",
       "      <td>0.732516</td>\n",
       "      <td>0.560531</td>\n",
       "      <td>-0.246184</td>\n",
       "      <td>0.000000e+00</td>\n",
       "    </tr>\n",
       "  </tbody>\n",
       "</table>\n",
       "</div>"
      ],
      "text/plain": [
       "          lag  xco2_res   sif_res  xco2_res:sif_res      cross_fit\n",
       "0    0.000000  0.726492  0.609633         -0.250225   1.000000e-02\n",
       "1  102.040816  0.732264  0.572802         -0.245046  5.122701e-274\n",
       "2  204.081633  0.734790  0.592201         -0.259037   0.000000e+00\n",
       "3  306.122449  0.732225  0.553962         -0.245178   0.000000e+00\n",
       "4  408.163265  0.732516  0.560531         -0.246184   0.000000e+00"
      ]
     },
     "execution_count": 16,
     "metadata": {},
     "output_type": "execute_result"
    }
   ],
   "source": [
    "vgm_guess = [0.4, 4e3, 0.1]\n",
    "cov_guess = [0.25, 4e3, 0.0]\n",
    "\n",
    "xco2_params, df_vgm[\"xco2_fit\"] = vgm.fit_variogram(df_vgm[\"lag\"], df_vgm[\"xco2_res\"], vgm_guess)\n",
    "sif_params, df_vgm[\"sif_fit\"] = vgm.fit_variogram(df_vgm[\"lag\"], df_vgm[\"sif_res\"], vgm_guess)\n",
    "cross_params, df_cov[\"cross_fit\"] = vgm.fit_variogram(df_cov[\"lag\"], df_cov[\"xco2_res:sif_res\"], cov_guess, covariogram=True)\n",
    "\n",
    "print(sif_params)\n",
    "df_cov.head()"
   ]
  },
  {
   "cell_type": "code",
   "execution_count": 15,
   "metadata": {},
   "outputs": [
    {
     "data": {
      "text/plain": [
       "<AxesSubplot:xlabel='lag'>"
      ]
     },
     "execution_count": 15,
     "metadata": {},
     "output_type": "execute_result"
    },
    {
     "data": {
      "image/png": "[encoded data removed]",
      "text/plain": [
       "<Figure size 432x288 with 1 Axes>"
      ]
     },
     "metadata": {
      "needs_background": "light"
     },
     "output_type": "display_data"
    }
   ],
   "source": [
    "df_vgm.plot(x=\"lag\", y=[\"xco2_res\", \"xco2_fit\"])"
   ]
  },
  {
   "cell_type": "code",
   "execution_count": null,
   "metadata": {},
   "outputs": [],
   "source": []
  }
 ],
 "metadata": {
  "kernelspec": {
   "display_name": "Python 3",
   "language": "python",
   "name": "python3"
  },
  "language_info": {
   "codemirror_mode": {
    "name": "ipython",
    "version": 3
   },
   "file_extension": ".py",
   "mimetype": "text/x-python",
   "name": "python",
   "nbconvert_exporter": "python",
   "pygments_lexer": "ipython3",
   "version": "3.7.10"
  }
 },
 "nbformat": 4,
 "nbformat_minor": 4
}

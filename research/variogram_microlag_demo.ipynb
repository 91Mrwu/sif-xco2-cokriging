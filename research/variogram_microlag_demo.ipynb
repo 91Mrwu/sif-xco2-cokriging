{
 "cells": [
  {
   "cell_type": "markdown",
   "id": "prompt-berkeley",
   "metadata": {},
   "source": [
    "# Demo Variogram with micro-lags"
   ]
  },
  {
   "cell_type": "code",
   "execution_count": 1,
   "id": "vulnerable-amino",
   "metadata": {},
   "outputs": [],
   "source": [
    "%load_ext autoreload\n",
    "%autoreload 2"
   ]
  },
  {
   "cell_type": "code",
   "execution_count": 3,
   "id": "animal-cause",
   "metadata": {},
   "outputs": [],
   "source": [
    "import sys\n",
    "sys.path.insert(0, \"../src\")"
   ]
  },
  {
   "cell_type": "code",
   "execution_count": 4,
   "id": "transsexual-moment",
   "metadata": {},
   "outputs": [],
   "source": [
    "import numpy as np\n",
    "import pandas as pd\n",
    "import xarray as xr\n",
    "\n",
    "import matplotlib.pyplot as plt\n",
    "import matplotlib.ticker as mticker\n",
    "import cartopy.crs as ccrs\n",
    "\n",
    "import krige_tools\n",
    "import fields\n",
    "import variogram as vgm"
   ]
  },
  {
   "cell_type": "code",
   "execution_count": 5,
   "id": "technological-belle",
   "metadata": {},
   "outputs": [],
   "source": [
    "ds = xr.open_dataset(\"../data/exp_pro/OCO2_4x5deg_monthly_conus_microlag.nc\")\n",
    "\n",
    "# Format as multi-fields\n",
    "ds_xco2 = ds[[\"xco2\", \"xco2_var\"]]\n",
    "ds_sif = ds[[\"sif\", \"sif_var\"]]\n",
    "\n",
    "var_names = [\"xco2\", \"sif\"]\n",
    "cross_name = \"xco2:sif\""
   ]
  },
  {
   "cell_type": "code",
   "execution_count": 6,
   "id": "buried-rocket",
   "metadata": {},
   "outputs": [],
   "source": [
    "# Analysis variables\n",
    "month = 8\n",
    "timedelta = -2\n",
    "n_bins = 50\n",
    "fast_dist = True\n",
    "\n",
    "timestamps = np.array(ds.time[ds.time.dt.month == month].values, dtype=\"datetime64[D]\")"
   ]
  },
  {
   "cell_type": "markdown",
   "id": "interpreted-franchise",
   "metadata": {},
   "source": [
    "Dig into actual variogram calculation... can we seperate out the indices at microlags vs the indices at the regular longitudes (within half max dist)?"
   ]
  },
  {
   "cell_type": "code",
   "execution_count": null,
   "id": "absolute-membership",
   "metadata": {},
   "outputs": [],
   "source": []
  }
 ],
 "metadata": {
  "kernelspec": {
   "display_name": "Python 3",
   "language": "python",
   "name": "python3"
  },
  "language_info": {
   "codemirror_mode": {
    "name": "ipython",
    "version": 3
   },
   "file_extension": ".py",
   "mimetype": "text/x-python",
   "name": "python",
   "nbconvert_exporter": "python",
   "pygments_lexer": "ipython3",
   "version": "3.7.10"
  }
 },
 "nbformat": 4,
 "nbformat_minor": 5
}

{
 "cells": [
  {
   "cell_type": "markdown",
   "source": [
    "# Combine Monthly EVI data from NASA's LP DAAC into a single dataset\n",
    "\n",
    "Temporal support: monthly, 2014--2020 <br>\n",
    "Spaital support: 0.05-deg, global\n",
    "\n",
    "https://doi.org/10.5067/MODIS/MOD13C2.006 <br>\n",
    "https://lpdaac.usgs.gov/\n"
   ],
   "metadata": {}
  },
  {
   "cell_type": "code",
   "execution_count": 1,
   "source": [
    "import sys\n",
    "sys.path.insert(0, \"../src\")\n",
    "\n",
    "import xarray as xr\n",
    "import data_utils"
   ],
   "outputs": [],
   "metadata": {}
  },
  {
   "cell_type": "code",
   "execution_count": null,
   "source": [
    "paths_evi = \"../data/exp_raw/*.hdf\"\n",
    "ds = xr.open_mfdataset(paths_evi)"
   ],
   "outputs": [],
   "metadata": {}
  }
 ],
 "metadata": {
  "orig_nbformat": 4,
  "language_info": {
   "name": "python",
   "version": "3.9.6",
   "mimetype": "text/x-python",
   "codemirror_mode": {
    "name": "ipython",
    "version": 3
   },
   "pygments_lexer": "ipython3",
   "nbconvert_exporter": "python",
   "file_extension": ".py"
  },
  "kernelspec": {
   "name": "python3",
   "display_name": "Python 3.9.6 64-bit (conda)"
  },
  "interpreter": {
   "hash": "d8ca96a3d9c07922ab4e3cb324c9be97d946f08b315534a3959aa98f39c36514"
  }
 },
 "nbformat": 4,
 "nbformat_minor": 2
}
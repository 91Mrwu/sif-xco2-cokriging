{
 "cells": [
  {
   "cell_type": "markdown",
   "metadata": {},
   "source": [
    "# Sandbox for simulating bivariate Guassian random fields"
   ]
  },
  {
   "cell_type": "code",
   "execution_count": 1,
   "metadata": {},
   "outputs": [],
   "source": [
    "%load_ext autoreload\n",
    "%autoreload 2\n",
    "\n",
    "import sys\n",
    "sys.path.insert(0, \"../src\")"
   ]
  },
  {
   "cell_type": "code",
   "execution_count": 2,
   "metadata": {},
   "outputs": [],
   "source": [
    "import numpy as np\n",
    "import pandas as pd\n",
    "import xarray as xr\n",
    "from cmcrameri import cm\n",
    "\n",
    "import model\n",
    "import sim\n",
    "import plot\n",
    "\n",
    "%matplotlib inline"
   ]
  },
  {
   "cell_type": "code",
   "execution_count": 19,
   "metadata": {},
   "outputs": [
    {
     "data": {
      "text/plain": [
       "array([[0., 0.],\n",
       "       [0., 1.],\n",
       "       [1., 0.],\n",
       "       [1., 1.]])"
      ]
     },
     "execution_count": 19,
     "metadata": {},
     "output_type": "execute_result"
    }
   ],
   "source": [
    "g = sim.CartesianGrid(xcount=2, ycount=2)\n",
    "g.coords"
   ]
  },
  {
   "cell_type": "code",
   "execution_count": 20,
   "metadata": {},
   "outputs": [
    {
     "data": {
      "text/plain": [
       "array([[0.        , 1.        , 1.        , 1.41421356],\n",
       "       [1.        , 0.        , 1.41421356, 1.        ],\n",
       "       [1.        , 1.41421356, 0.        , 1.        ],\n",
       "       [1.41421356, 1.        , 1.        , 0.        ]])"
      ]
     },
     "execution_count": 20,
     "metadata": {},
     "output_type": "execute_result"
    }
   ],
   "source": [
    "g.dist"
   ]
  },
  {
   "cell_type": "code",
   "execution_count": 23,
   "metadata": {},
   "outputs": [
    {
     "data": {
      "text/plain": [
       "array([[1.        , 0.99999401, 0.99999401, 0.99998804, 0.        ,\n",
       "        0.        , 0.        , 0.        ],\n",
       "       [0.99999401, 1.        , 0.99998804, 0.99999401, 0.        ,\n",
       "        0.        , 0.        , 0.        ],\n",
       "       [0.99999401, 0.99998804, 1.        , 0.99999401, 0.        ,\n",
       "        0.        , 0.        , 0.        ],\n",
       "       [0.99998804, 0.99999401, 0.99999401, 1.        , 0.        ,\n",
       "        0.        , 0.        , 0.        ],\n",
       "       [0.        , 0.        , 0.        , 0.        , 1.        ,\n",
       "        0.99999401, 0.99999401, 0.99998804],\n",
       "       [0.        , 0.        , 0.        , 0.        , 0.99999401,\n",
       "        1.        , 0.99998804, 0.99999401],\n",
       "       [0.        , 0.        , 0.        , 0.        , 0.99999401,\n",
       "        0.99998804, 1.        , 0.99999401],\n",
       "       [0.        , 0.        , 0.        , 0.        , 0.99998804,\n",
       "        0.99999401, 0.99999401, 1.        ]])"
      ]
     },
     "execution_count": 23,
     "metadata": {},
     "output_type": "execute_result"
    }
   ],
   "source": [
    "mod = model.MultivariateMatern()\n",
    "S = sim.Sim(mod, g)\n",
    "S.cmat"
   ]
  },
  {
   "cell_type": "code",
   "execution_count": null,
   "metadata": {},
   "outputs": [],
   "source": []
  }
 ],
 "metadata": {
  "interpreter": {
   "hash": "ffafdbb9227eb07d39e6805a6cc146949624e3538c9c913cabd94cbcb9aaae37"
  },
  "kernelspec": {
   "display_name": "Python 3.9.6 64-bit (conda)",
   "name": "python3"
  },
  "language_info": {
   "codemirror_mode": {
    "name": "ipython",
    "version": 3
   },
   "file_extension": ".py",
   "mimetype": "text/x-python",
   "name": "python",
   "nbconvert_exporter": "python",
   "pygments_lexer": "ipython3",
   "version": "3.9.6"
  },
  "orig_nbformat": 4
 },
 "nbformat": 4,
 "nbformat_minor": 2
}

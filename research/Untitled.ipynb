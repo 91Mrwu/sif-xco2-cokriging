{
 "cells": [
  {
   "cell_type": "code",
   "execution_count": 1,
   "id": "patient-dance",
   "metadata": {},
   "outputs": [],
   "source": [
    "%load_ext autoreload\n",
    "%autoreload 2"
   ]
  },
  {
   "cell_type": "code",
   "execution_count": 2,
   "id": "diagnostic-sitting",
   "metadata": {},
   "outputs": [],
   "source": [
    "import sys\n",
    "sys.path.insert(0, \"../src\")"
   ]
  },
  {
   "cell_type": "code",
   "execution_count": 3,
   "id": "velvet-jungle",
   "metadata": {},
   "outputs": [],
   "source": [
    "import numpy as np\n",
    "import pandas as pd\n",
    "import xarray as xr\n",
    "import matplotlib.pyplot as plt\n",
    "import seaborn as sns\n",
    "\n",
    "import fields\n",
    "import variogram as vgm"
   ]
  },
  {
   "cell_type": "code",
   "execution_count": 11,
   "id": "resident-arabic",
   "metadata": {},
   "outputs": [],
   "source": [
    "# Analysis variables\n",
    "timestamps = [\"2016-07-01\", \"2019-08-01\"]\n",
    "tols = [100, 250]\n",
    "timedeltas = [-1, -2]\n",
    "space_lags = np.linspace(0, 3.5e3, 15)\n",
    "\n",
    "timestamp = timestamps[1]\n",
    "tol = tols[1]\n",
    "timedelta = timedeltas[0]\n",
    "\n",
    "# Initial guess for covariance params\n",
    "vgm_guess = [0.4, 1e3, 0.1]\n",
    "cross_guess = [1e3, -0.1]"
   ]
  },
  {
   "cell_type": "code",
   "execution_count": 5,
   "id": "applicable-swift",
   "metadata": {},
   "outputs": [],
   "source": [
    "# Get data: 5-degree monthly average, cont. US\n",
    "ds = xr.open_dataset(\"../data/exp_pro/OCO2_5deg_monthly_conus.nc\")\n",
    "\n",
    "ds_xco2 = ds[[\"xco2\", \"xco2_var\"]]\n",
    "ds_sif = ds[[\"sif\", \"sif_var\"]]"
   ]
  },
  {
   "cell_type": "code",
   "execution_count": 30,
   "id": "industrial-murder",
   "metadata": {},
   "outputs": [
    {
     "name": "stderr",
     "output_type": "stream",
     "text": [
      "/home/jj829/sif-data-fusion/conda-env/lib/python3.7/site-packages/numpy/lib/nanfunctions.py:1665: RuntimeWarning: Degrees of freedom <= 0 for slice.\n",
      "  keepdims=keepdims)\n",
      "/home/jj829/sif-data-fusion/conda-env/lib/python3.7/site-packages/numpy/lib/nanfunctions.py:1665: RuntimeWarning: Degrees of freedom <= 0 for slice.\n",
      "  keepdims=keepdims)\n"
     ]
    }
   ],
   "source": [
    "mf = fields.MultiField(ds_xco2, ds_sif, timestamp, timedelta=timedelta, full_detrend=True, standardize_window=True)"
   ]
  },
  {
   "cell_type": "code",
   "execution_count": 32,
   "id": "continent-celebration",
   "metadata": {},
   "outputs": [
    {
     "data": {
      "text/plain": [
       "array([[ 1.,  0.,  1.,  2.,  3.,  4.,  5.,  6.,  7.,  8.,  9., 10., 11.,\n",
       "        12.],\n",
       "       [ 2.,  1.,  0.,  1.,  2.,  3.,  4.,  5.,  6.,  7.,  8.,  9., 10.,\n",
       "        11.],\n",
       "       [ 3.,  2.,  1.,  0.,  1.,  2.,  3.,  4.,  5.,  6.,  7.,  8.,  9.,\n",
       "        10.],\n",
       "       [ 4.,  3.,  2.,  1.,  0.,  1.,  2.,  3.,  4.,  5.,  6.,  7.,  8.,\n",
       "         9.],\n",
       "       [ 5.,  4.,  3.,  2.,  1.,  0.,  1.,  2.,  3.,  4.,  5.,  6.,  7.,\n",
       "         8.],\n",
       "       [ 6.,  5.,  4.,  3.,  2.,  1.,  0.,  1.,  2.,  3.,  4.,  5.,  6.,\n",
       "         7.],\n",
       "       [ 7.,  6.,  5.,  4.,  3.,  2.,  1.,  0.,  1.,  2.,  3.,  4.,  5.,\n",
       "         6.],\n",
       "       [ 8.,  7.,  6.,  5.,  4.,  3.,  2.,  1.,  0.,  1.,  2.,  3.,  4.,\n",
       "         5.],\n",
       "       [ 9.,  8.,  7.,  6.,  5.,  4.,  3.,  2.,  1.,  0.,  1.,  2.,  3.,\n",
       "         4.],\n",
       "       [10.,  9.,  8.,  7.,  6.,  5.,  4.,  3.,  2.,  1.,  0.,  1.,  2.,\n",
       "         3.],\n",
       "       [11., 10.,  9.,  8.,  7.,  6.,  5.,  4.,  3.,  2.,  1.,  0.,  1.,\n",
       "         2.],\n",
       "       [12., 11., 10.,  9.,  8.,  7.,  6.,  5.,  4.,  3.,  2.,  1.,  0.,\n",
       "         1.]])"
      ]
     },
     "execution_count": 32,
     "metadata": {},
     "output_type": "execute_result"
    },
    {
     "data": {
      "image/png": "[encoded data removed]",
      "text/plain": [
       "<Figure size 336x288 with 1 Axes>"
      ]
     },
     "metadata": {
      "needs_background": "light"
     },
     "output_type": "display_data"
    }
   ],
   "source": [
    "df_1 = mf.field_1.get_spacetime_df()\n",
    "df_2 = mf.field_2.get_spacetime_df()\n",
    "\n",
    "D = vgm.distance_matrix_time(np.unique(df_1[\"time\"].values), np.unique(df_2[\"time\"].values))\n",
    "plt.matshow(D)\n",
    "D"
   ]
  },
  {
   "cell_type": "code",
   "execution_count": 16,
   "id": "proved-costume",
   "metadata": {},
   "outputs": [
    {
     "ename": "IndexError",
     "evalue": "index 0 is out of bounds for axis 0 with size 0",
     "output_type": "error",
     "traceback": [
      "\u001b[0;31m---------------------------------------------------------------------------\u001b[0m",
      "\u001b[0;31mIndexError\u001b[0m                                Traceback (most recent call last)",
      "\u001b[0;32m<ipython-input-16-f429cd238fe1>\u001b[0m in \u001b[0;36m<module>\u001b[0;34m\u001b[0m\n\u001b[1;32m      4\u001b[0m     \u001b[0mtol\u001b[0m\u001b[0;34m=\u001b[0m\u001b[0mtol\u001b[0m\u001b[0;34m,\u001b[0m\u001b[0;34m\u001b[0m\u001b[0;34m\u001b[0m\u001b[0m\n\u001b[1;32m      5\u001b[0m     \u001b[0mtime_lag\u001b[0m\u001b[0;34m=\u001b[0m\u001b[0;34m-\u001b[0m\u001b[0;36m1\u001b[0m\u001b[0;34m,\u001b[0m\u001b[0;34m\u001b[0m\u001b[0;34m\u001b[0m\u001b[0m\n\u001b[0;32m----> 6\u001b[0;31m     \u001b[0mcrop_lags\u001b[0m\u001b[0;34m=\u001b[0m\u001b[0;32mTrue\u001b[0m\u001b[0;34m,\u001b[0m\u001b[0;34m\u001b[0m\u001b[0;34m\u001b[0m\u001b[0m\n\u001b[0m\u001b[1;32m      7\u001b[0m )\n",
      "\u001b[0;32m~/sif-data-fusion/src/variogram.py\u001b[0m in \u001b[0;36mvariogram_analysis\u001b[0;34m(mf, space_lags, tol, time_lag, crop_lags, standardize)\u001b[0m\n\u001b[1;32m    244\u001b[0m     \u001b[0mvariograms\u001b[0m \u001b[0;34m=\u001b[0m \u001b[0mdict\u001b[0m\u001b[0;34m(\u001b[0m\u001b[0;34m)\u001b[0m\u001b[0;34m\u001b[0m\u001b[0;34m\u001b[0m\u001b[0m\n\u001b[1;32m    245\u001b[0m     variograms[f\"{names[0]}:{names[1]}\"] = empirical_cross_cov(\n\u001b[0;32m--> 246\u001b[0;31m         \u001b[0mdata_dict\u001b[0m\u001b[0;34m,\u001b[0m \u001b[0mspace_lags\u001b[0m\u001b[0;34m,\u001b[0m \u001b[0mtol\u001b[0m\u001b[0;34m,\u001b[0m \u001b[0mtime_lag\u001b[0m\u001b[0;34m,\u001b[0m \u001b[0mcrop_lags\u001b[0m\u001b[0;34m=\u001b[0m\u001b[0mcrop_lags\u001b[0m\u001b[0;34m\u001b[0m\u001b[0;34m\u001b[0m\u001b[0m\n\u001b[0m\u001b[1;32m    247\u001b[0m     )\n\u001b[1;32m    248\u001b[0m     \u001b[0;32mfor\u001b[0m \u001b[0mvar\u001b[0m \u001b[0;32min\u001b[0m \u001b[0mnames\u001b[0m\u001b[0;34m:\u001b[0m\u001b[0;34m\u001b[0m\u001b[0;34m\u001b[0m\u001b[0m\n",
      "\u001b[0;32m~/sif-data-fusion/src/variogram.py\u001b[0m in \u001b[0;36mempirical_cross_cov\u001b[0;34m(data_dict, space_lags, tol, time_lag, crop_lags)\u001b[0m\n\u001b[1;32m    193\u001b[0m     \u001b[0;31m# Compute cross-covariogram\u001b[0m\u001b[0;34m\u001b[0m\u001b[0;34m\u001b[0m\u001b[0;34m\u001b[0m\u001b[0m\n\u001b[1;32m    194\u001b[0m     df_vgm[f\"{names[0]}:{names[1]}\"], df_vgm[\"counts\"] = apply_xcov_calc(\n\u001b[0;32m--> 195\u001b[0;31m         \u001b[0mspace_lags\u001b[0m\u001b[0;34m,\u001b[0m \u001b[0mdist_space\u001b[0m\u001b[0;34m,\u001b[0m \u001b[0mtol\u001b[0m\u001b[0;34m,\u001b[0m \u001b[0mpairs_time\u001b[0m\u001b[0;34m,\u001b[0m \u001b[0mdata\u001b[0m\u001b[0;34m[\u001b[0m\u001b[0;36m0\u001b[0m\u001b[0;34m]\u001b[0m\u001b[0;34m,\u001b[0m \u001b[0mdata\u001b[0m\u001b[0;34m[\u001b[0m\u001b[0;36m1\u001b[0m\u001b[0;34m]\u001b[0m\u001b[0;34m\u001b[0m\u001b[0;34m\u001b[0m\u001b[0m\n\u001b[0m\u001b[1;32m    196\u001b[0m     )\n\u001b[1;32m    197\u001b[0m     \u001b[0;32mif\u001b[0m \u001b[0;34m(\u001b[0m\u001b[0mdf_vgm\u001b[0m\u001b[0;34m[\u001b[0m\u001b[0;34m\"counts\"\u001b[0m\u001b[0;34m]\u001b[0m \u001b[0;34m<\u001b[0m \u001b[0;36m30\u001b[0m\u001b[0;34m)\u001b[0m\u001b[0;34m.\u001b[0m\u001b[0many\u001b[0m\u001b[0;34m(\u001b[0m\u001b[0;34m)\u001b[0m\u001b[0;34m:\u001b[0m\u001b[0;34m\u001b[0m\u001b[0;34m\u001b[0m\u001b[0m\n",
      "\u001b[0;32m~/sif-data-fusion/src/variogram.py\u001b[0m in \u001b[0;36mapply_xcov_calc\u001b[0;34m(space_lags, dist_space, tol, pairs_time, data1, data2)\u001b[0m\n\u001b[1;32m    129\u001b[0m         \u001b[0;32mif\u001b[0m \u001b[0mpairs_space\u001b[0m\u001b[0;34m.\u001b[0m\u001b[0mshape\u001b[0m\u001b[0;34m[\u001b[0m\u001b[0;36m0\u001b[0m\u001b[0;34m]\u001b[0m \u001b[0;34m==\u001b[0m \u001b[0;36m0\u001b[0m\u001b[0;34m:\u001b[0m\u001b[0;34m\u001b[0m\u001b[0;34m\u001b[0m\u001b[0m\n\u001b[1;32m    130\u001b[0m             \u001b[0mprint\u001b[0m\u001b[0;34m(\u001b[0m\u001b[0;34m\"Degenerate.\"\u001b[0m\u001b[0;34m)\u001b[0m\u001b[0;34m\u001b[0m\u001b[0;34m\u001b[0m\u001b[0m\n\u001b[0;32m--> 131\u001b[0;31m         \u001b[0mv\u001b[0m\u001b[0;34m[\u001b[0m\u001b[0mh\u001b[0m\u001b[0;34m]\u001b[0m\u001b[0;34m,\u001b[0m \u001b[0mcounts\u001b[0m\u001b[0;34m[\u001b[0m\u001b[0mh\u001b[0m\u001b[0;34m]\u001b[0m \u001b[0;34m=\u001b[0m \u001b[0mspacetime_cov_calc\u001b[0m\u001b[0;34m(\u001b[0m\u001b[0mdata1\u001b[0m\u001b[0;34m,\u001b[0m \u001b[0mdata2\u001b[0m\u001b[0;34m,\u001b[0m \u001b[0mpairs_time\u001b[0m\u001b[0;34m,\u001b[0m \u001b[0mpairs_space\u001b[0m\u001b[0;34m)\u001b[0m\u001b[0;34m\u001b[0m\u001b[0;34m\u001b[0m\u001b[0m\n\u001b[0m\u001b[1;32m    132\u001b[0m \u001b[0;34m\u001b[0m\u001b[0m\n\u001b[1;32m    133\u001b[0m     \u001b[0;32mreturn\u001b[0m \u001b[0mv\u001b[0m\u001b[0;34m,\u001b[0m \u001b[0mcounts\u001b[0m\u001b[0;34m\u001b[0m\u001b[0;34m\u001b[0m\u001b[0m\n",
      "\u001b[0;32m~/sif-data-fusion/src/variogram.py\u001b[0m in \u001b[0;36mspacetime_cov_calc\u001b[0;34m(d1, d2, pairs_time, pairs_space)\u001b[0m\n\u001b[1;32m     98\u001b[0m                 \u001b[0md2\u001b[0m\u001b[0;34m[\u001b[0m\u001b[0;34m:\u001b[0m\u001b[0;34m,\u001b[0m \u001b[0;36m1\u001b[0m\u001b[0;34m]\u001b[0m \u001b[0;34m==\u001b[0m \u001b[0mpairs_space\u001b[0m\u001b[0;34m[\u001b[0m\u001b[0mj\u001b[0m\u001b[0;34m,\u001b[0m \u001b[0;36m1\u001b[0m\u001b[0;34m]\u001b[0m\u001b[0;34m\u001b[0m\u001b[0;34m\u001b[0m\u001b[0m\n\u001b[1;32m     99\u001b[0m             )\n\u001b[0;32m--> 100\u001b[0;31m             \u001b[0mpairs_prod\u001b[0m\u001b[0;34m[\u001b[0m\u001b[0mi\u001b[0m\u001b[0;34m,\u001b[0m \u001b[0mj\u001b[0m\u001b[0;34m]\u001b[0m \u001b[0;34m=\u001b[0m \u001b[0md1\u001b[0m\u001b[0;34m[\u001b[0m\u001b[0mpoint_var1\u001b[0m\u001b[0;34m]\u001b[0m\u001b[0;34m[\u001b[0m\u001b[0;36m0\u001b[0m\u001b[0;34m,\u001b[0m \u001b[0;36m2\u001b[0m\u001b[0;34m]\u001b[0m \u001b[0;34m*\u001b[0m \u001b[0md2\u001b[0m\u001b[0;34m[\u001b[0m\u001b[0mpoint_var2\u001b[0m\u001b[0;34m]\u001b[0m\u001b[0;34m[\u001b[0m\u001b[0;36m0\u001b[0m\u001b[0;34m,\u001b[0m \u001b[0;36m2\u001b[0m\u001b[0;34m]\u001b[0m\u001b[0;34m\u001b[0m\u001b[0;34m\u001b[0m\u001b[0m\n\u001b[0m\u001b[1;32m    101\u001b[0m \u001b[0;34m\u001b[0m\u001b[0m\n\u001b[1;32m    102\u001b[0m     \u001b[0mpairs_prod\u001b[0m \u001b[0;34m=\u001b[0m \u001b[0mnp\u001b[0m\u001b[0;34m.\u001b[0m\u001b[0mwhere\u001b[0m\u001b[0;34m(\u001b[0m\u001b[0mnp\u001b[0m\u001b[0;34m.\u001b[0m\u001b[0misfinite\u001b[0m\u001b[0;34m(\u001b[0m\u001b[0mpairs_prod\u001b[0m\u001b[0;34m)\u001b[0m\u001b[0;34m,\u001b[0m \u001b[0mpairs_prod\u001b[0m\u001b[0;34m,\u001b[0m \u001b[0mnp\u001b[0m\u001b[0;34m.\u001b[0m\u001b[0mnan\u001b[0m\u001b[0;34m)\u001b[0m\u001b[0;34m\u001b[0m\u001b[0;34m\u001b[0m\u001b[0m\n",
      "\u001b[0;31mIndexError\u001b[0m: index 0 is out of bounds for axis 0 with size 0"
     ]
    }
   ],
   "source": [
    "vario_res = vgm.variogram_analysis(\n",
    "    mf,\n",
    "    space_lags,\n",
    "    tol=tol,\n",
    "    time_lag=-1,\n",
    "    crop_lags=True,\n",
    ")"
   ]
  },
  {
   "cell_type": "code",
   "execution_count": 11,
   "id": "given-extraction",
   "metadata": {},
   "outputs": [
    {
     "data": {
      "text/html": [
       "<div>\n",
       "<style scoped>\n",
       "    .dataframe tbody tr th:only-of-type {\n",
       "        vertical-align: middle;\n",
       "    }\n",
       "\n",
       "    .dataframe tbody tr th {\n",
       "        vertical-align: top;\n",
       "    }\n",
       "\n",
       "    .dataframe thead th {\n",
       "        text-align: right;\n",
       "    }\n",
       "</style>\n",
       "<table border=\"1\" class=\"dataframe\">\n",
       "  <thead>\n",
       "    <tr style=\"text-align: right;\">\n",
       "      <th></th>\n",
       "      <th>lag</th>\n",
       "      <th>xco2:sif</th>\n",
       "      <th>counts</th>\n",
       "    </tr>\n",
       "  </thead>\n",
       "  <tbody>\n",
       "    <tr>\n",
       "      <th>0</th>\n",
       "      <td>0.0</td>\n",
       "      <td>inf</td>\n",
       "      <td>1584.0</td>\n",
       "    </tr>\n",
       "    <tr>\n",
       "      <th>1</th>\n",
       "      <td>500.0</td>\n",
       "      <td>-0.223339</td>\n",
       "      <td>8932.0</td>\n",
       "    </tr>\n",
       "    <tr>\n",
       "      <th>2</th>\n",
       "      <td>750.0</td>\n",
       "      <td>-0.240752</td>\n",
       "      <td>11176.0</td>\n",
       "    </tr>\n",
       "    <tr>\n",
       "      <th>3</th>\n",
       "      <td>1000.0</td>\n",
       "      <td>-0.221141</td>\n",
       "      <td>15510.0</td>\n",
       "    </tr>\n",
       "    <tr>\n",
       "      <th>4</th>\n",
       "      <td>1250.0</td>\n",
       "      <td>-0.201225</td>\n",
       "      <td>17424.0</td>\n",
       "    </tr>\n",
       "    <tr>\n",
       "      <th>5</th>\n",
       "      <td>1500.0</td>\n",
       "      <td>-0.208942</td>\n",
       "      <td>16654.0</td>\n",
       "    </tr>\n",
       "    <tr>\n",
       "      <th>6</th>\n",
       "      <td>1750.0</td>\n",
       "      <td>-0.195693</td>\n",
       "      <td>18194.0</td>\n",
       "    </tr>\n",
       "    <tr>\n",
       "      <th>7</th>\n",
       "      <td>2000.0</td>\n",
       "      <td>-0.184390</td>\n",
       "      <td>16368.0</td>\n",
       "    </tr>\n",
       "    <tr>\n",
       "      <th>8</th>\n",
       "      <td>2250.0</td>\n",
       "      <td>-0.188902</td>\n",
       "      <td>18876.0</td>\n",
       "    </tr>\n",
       "    <tr>\n",
       "      <th>9</th>\n",
       "      <td>2500.0</td>\n",
       "      <td>-0.182050</td>\n",
       "      <td>17292.0</td>\n",
       "    </tr>\n",
       "    <tr>\n",
       "      <th>10</th>\n",
       "      <td>2750.0</td>\n",
       "      <td>-0.191836</td>\n",
       "      <td>16434.0</td>\n",
       "    </tr>\n",
       "    <tr>\n",
       "      <th>11</th>\n",
       "      <td>3000.0</td>\n",
       "      <td>-0.184356</td>\n",
       "      <td>16478.0</td>\n",
       "    </tr>\n",
       "  </tbody>\n",
       "</table>\n",
       "</div>"
      ],
      "text/plain": [
       "       lag  xco2:sif   counts\n",
       "0      0.0       inf   1584.0\n",
       "1    500.0 -0.223339   8932.0\n",
       "2    750.0 -0.240752  11176.0\n",
       "3   1000.0 -0.221141  15510.0\n",
       "4   1250.0 -0.201225  17424.0\n",
       "5   1500.0 -0.208942  16654.0\n",
       "6   1750.0 -0.195693  18194.0\n",
       "7   2000.0 -0.184390  16368.0\n",
       "8   2250.0 -0.188902  18876.0\n",
       "9   2500.0 -0.182050  17292.0\n",
       "10  2750.0 -0.191836  16434.0\n",
       "11  3000.0 -0.184356  16478.0"
      ]
     },
     "execution_count": 11,
     "metadata": {},
     "output_type": "execute_result"
    }
   ],
   "source": [
    "# Look at the space and time distance matrices for the cross cov\n",
    "vario_res['xco2:sif']"
   ]
  },
  {
   "cell_type": "code",
   "execution_count": 10,
   "id": "christian-label",
   "metadata": {},
   "outputs": [
    {
     "data": {
      "text/html": [
       "<div>\n",
       "<style scoped>\n",
       "    .dataframe tbody tr th:only-of-type {\n",
       "        vertical-align: middle;\n",
       "    }\n",
       "\n",
       "    .dataframe tbody tr th {\n",
       "        vertical-align: top;\n",
       "    }\n",
       "\n",
       "    .dataframe thead th {\n",
       "        text-align: right;\n",
       "    }\n",
       "</style>\n",
       "<table border=\"1\" class=\"dataframe\">\n",
       "  <thead>\n",
       "    <tr style=\"text-align: right;\">\n",
       "      <th></th>\n",
       "      <th>lag</th>\n",
       "      <th>xco2</th>\n",
       "      <th>xco2_counts</th>\n",
       "      <th>sif</th>\n",
       "      <th>sif_counts</th>\n",
       "    </tr>\n",
       "  </thead>\n",
       "  <tbody>\n",
       "    <tr>\n",
       "      <th>0</th>\n",
       "      <td>0.0</td>\n",
       "      <td>inf</td>\n",
       "      <td>596.0</td>\n",
       "      <td>inf</td>\n",
       "      <td>790.0</td>\n",
       "    </tr>\n",
       "    <tr>\n",
       "      <th>1</th>\n",
       "      <td>500.0</td>\n",
       "      <td>6.928041e-01</td>\n",
       "      <td>3413.0</td>\n",
       "      <td>5.774765e+296</td>\n",
       "      <td>4452.0</td>\n",
       "    </tr>\n",
       "    <tr>\n",
       "      <th>2</th>\n",
       "      <td>750.0</td>\n",
       "      <td>6.844620e-01</td>\n",
       "      <td>4155.0</td>\n",
       "      <td>9.231270e-01</td>\n",
       "      <td>5573.0</td>\n",
       "    </tr>\n",
       "    <tr>\n",
       "      <th>3</th>\n",
       "      <td>1000.0</td>\n",
       "      <td>9.072246e+296</td>\n",
       "      <td>5614.0</td>\n",
       "      <td>7.760448e+296</td>\n",
       "      <td>7730.0</td>\n",
       "    </tr>\n",
       "    <tr>\n",
       "      <th>4</th>\n",
       "      <td>1250.0</td>\n",
       "      <td>8.222634e+296</td>\n",
       "      <td>6502.0</td>\n",
       "      <td>7.021665e+296</td>\n",
       "      <td>8682.0</td>\n",
       "    </tr>\n",
       "    <tr>\n",
       "      <th>5</th>\n",
       "      <td>1500.0</td>\n",
       "      <td>8.358015e+296</td>\n",
       "      <td>6152.0</td>\n",
       "      <td>6.922444e+296</td>\n",
       "      <td>8300.0</td>\n",
       "    </tr>\n",
       "    <tr>\n",
       "      <th>6</th>\n",
       "      <td>1750.0</td>\n",
       "      <td>8.779027e+296</td>\n",
       "      <td>6578.0</td>\n",
       "      <td>7.465427e+296</td>\n",
       "      <td>9066.0</td>\n",
       "    </tr>\n",
       "    <tr>\n",
       "      <th>7</th>\n",
       "      <td>2000.0</td>\n",
       "      <td>7.899917e+296</td>\n",
       "      <td>5991.0</td>\n",
       "      <td>7.065946e+296</td>\n",
       "      <td>8159.0</td>\n",
       "    </tr>\n",
       "    <tr>\n",
       "      <th>8</th>\n",
       "      <td>2250.0</td>\n",
       "      <td>8.329231e+296</td>\n",
       "      <td>6828.0</td>\n",
       "      <td>7.429751e+296</td>\n",
       "      <td>9411.0</td>\n",
       "    </tr>\n",
       "    <tr>\n",
       "      <th>9</th>\n",
       "      <td>2500.0</td>\n",
       "      <td>8.491379e+296</td>\n",
       "      <td>6193.0</td>\n",
       "      <td>7.647449e+296</td>\n",
       "      <td>8621.0</td>\n",
       "    </tr>\n",
       "    <tr>\n",
       "      <th>10</th>\n",
       "      <td>2750.0</td>\n",
       "      <td>8.700019e+296</td>\n",
       "      <td>5843.0</td>\n",
       "      <td>7.612543e+296</td>\n",
       "      <td>8200.0</td>\n",
       "    </tr>\n",
       "    <tr>\n",
       "      <th>11</th>\n",
       "      <td>3000.0</td>\n",
       "      <td>8.305562e+296</td>\n",
       "      <td>5886.0</td>\n",
       "      <td>7.188594e+296</td>\n",
       "      <td>8223.0</td>\n",
       "    </tr>\n",
       "  </tbody>\n",
       "</table>\n",
       "</div>"
      ],
      "text/plain": [
       "       lag           xco2  xco2_counts            sif  sif_counts\n",
       "0      0.0            inf        596.0            inf       790.0\n",
       "1    500.0   6.928041e-01       3413.0  5.774765e+296      4452.0\n",
       "2    750.0   6.844620e-01       4155.0   9.231270e-01      5573.0\n",
       "3   1000.0  9.072246e+296       5614.0  7.760448e+296      7730.0\n",
       "4   1250.0  8.222634e+296       6502.0  7.021665e+296      8682.0\n",
       "5   1500.0  8.358015e+296       6152.0  6.922444e+296      8300.0\n",
       "6   1750.0  8.779027e+296       6578.0  7.465427e+296      9066.0\n",
       "7   2000.0  7.899917e+296       5991.0  7.065946e+296      8159.0\n",
       "8   2250.0  8.329231e+296       6828.0  7.429751e+296      9411.0\n",
       "9   2500.0  8.491379e+296       6193.0  7.647449e+296      8621.0\n",
       "10  2750.0  8.700019e+296       5843.0  7.612543e+296      8200.0\n",
       "11  3000.0  8.305562e+296       5886.0  7.188594e+296      8223.0"
      ]
     },
     "execution_count": 10,
     "metadata": {},
     "output_type": "execute_result"
    }
   ],
   "source": [
    "df_vgm"
   ]
  },
  {
   "cell_type": "code",
   "execution_count": null,
   "id": "sensitive-nylon",
   "metadata": {},
   "outputs": [],
   "source": [
    "xco2_params, df_vgm[\"xco2_fit\"] = vgm.fit_variogram_wls(df_vgm[\"lag\"], df_vgm[\"xco2\"], df_vgm[\"xco2_counts\"], vgm_guess)\n",
    "sif_params, df_vgm[\"sif_fit\"] = vgm.fit_variogram_wls(df_vgm[\"lag\"], df_vgm[\"sif\"], df_vgm[\"sif_counts\"], vgm_guess)\n",
    "\n",
    "sigmas = [xco2_params[0], sif_params[0]]\n",
    "cross_params, df_cov[\"cross_fit\"] = vgm.fit_variogram_wls(df_cov[\"lag\"], df_cov[\"xco2:sif\"], df_cov[\"xco2:sif_counts\"], cross_guess, sigmas=sigmas)"
   ]
  }
 ],
 "metadata": {
  "kernelspec": {
   "display_name": "Python 3",
   "language": "python",
   "name": "python3"
  },
  "language_info": {
   "codemirror_mode": {
    "name": "ipython",
    "version": 3
   },
   "file_extension": ".py",
   "mimetype": "text/x-python",
   "name": "python",
   "nbconvert_exporter": "python",
   "pygments_lexer": "ipython3",
   "version": "3.7.10"
  }
 },
 "nbformat": 4,
 "nbformat_minor": 5
}

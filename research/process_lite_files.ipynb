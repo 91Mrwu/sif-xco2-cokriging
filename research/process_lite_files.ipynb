{
 "cells": [
  {
   "cell_type": "markdown",
   "metadata": {},
   "source": [
    "# Process OCO-2 Lite files for SIF and XCO2 datasets\n",
    "---"
   ]
  },
  {
   "cell_type": "code",
   "execution_count": 1,
   "metadata": {},
   "outputs": [],
   "source": [
    "import sys\n",
    "sys.path.insert(0, \"../src\")\n",
    "\n",
    "import xarray\n",
    "import data_utils as utils"
   ]
  },
  {
   "cell_type": "code",
   "execution_count": null,
   "metadata": {},
   "outputs": [],
   "source": [
    "from dask.distributed import Client\n",
    "client = Client(n_workers=8, dashboard_address=\":8889\")\n",
    "client"
   ]
  },
  {
   "cell_type": "code",
   "execution_count": null,
   "metadata": {},
   "outputs": [],
   "source": [
    "# Open datasets for all years (2014-09-06:2020-07-31)\n",
    "paths_sif = \"/data/OCO-2/OCO2_L2_Lite_SIF.10r/*/*.nc4\"\n",
    "paths_xco2 = \"/data/OCO-2/OCO2_L2_Lite_FP.10r/*/*.nc4\"\n",
    "\n",
    "DS_sif = xarray.open_mfdataset(paths_sif, preprocess=utils.prep_sif, parallel=True)\n",
    "DS_xco2 = xarray.open_mfdataset(paths_xco2, preprocess=utils.prep_xco2, parallel=True)"
   ]
  },
  {
   "cell_type": "code",
   "execution_count": null,
   "metadata": {},
   "outputs": [],
   "source": [
    "DS_sif"
   ]
  },
  {
   "cell_type": "code",
   "execution_count": null,
   "metadata": {},
   "outputs": [],
   "source": [
    "# Write datasets to smaller netcdfs\n",
    "DS_sif.to_netcdf(\"../data/OCO2_Lite_SIF740.nc\", format=\"NETCDF4\")\n",
    "DS_xco2.to_netcdf(\"../data/OCO2_Lite_XCO2.nc\", format=\"NETCDF4\")"
   ]
  },
  {
   "cell_type": "code",
   "execution_count": null,
   "metadata": {},
   "outputs": [],
   "source": [
    "client.close()"
   ]
  }
 ],
 "metadata": {
  "kernelspec": {
   "display_name": "Python 3",
   "language": "python",
   "name": "python3"
  },
  "language_info": {
   "codemirror_mode": {
    "name": "ipython",
    "version": 3
   },
   "file_extension": ".py",
   "mimetype": "text/x-python",
   "name": "python",
   "nbconvert_exporter": "python",
   "pygments_lexer": "ipython3",
   "version": "3.7.9"
  }
 },
 "nbformat": 4,
 "nbformat_minor": 4
}

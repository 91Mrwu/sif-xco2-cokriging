{
 "cells": [
  {
   "cell_type": "markdown",
   "id": "dressed-radio",
   "metadata": {},
   "source": [
    "# Demo Variogram with micro-lags"
   ]
  },
  {
   "cell_type": "code",
   "execution_count": 1,
   "id": "interstate-aaron",
   "metadata": {},
   "outputs": [],
   "source": [
    "%load_ext autoreload\n",
    "%autoreload 2"
   ]
  },
  {
   "cell_type": "code",
   "execution_count": 2,
   "id": "electrical-masters",
   "metadata": {},
   "outputs": [],
   "source": [
    "import sys\n",
    "sys.path.insert(0, \"../src\")"
   ]
  },
  {
   "cell_type": "code",
   "execution_count": 6,
   "id": "vulnerable-simon",
   "metadata": {},
   "outputs": [],
   "source": [
    "import numpy as np\n",
    "import pandas as pd\n",
    "import xarray as xr\n",
    "\n",
    "import matplotlib.pyplot as plt\n",
    "import matplotlib.ticker as mticker\n",
    "import cartopy.crs as ccrs\n",
    "\n",
    "import data_utils\n",
    "import spatial_tools\n",
    "import fields\n",
    "import variogram as vgm"
   ]
  },
  {
   "cell_type": "code",
   "execution_count": 4,
   "id": "functioning-asbestos",
   "metadata": {},
   "outputs": [],
   "source": [
    "ds = xr.open_dataset(\"../data/exp_pro/OCO2_4x5deg_monthly_conus_microlag.nc\")\n",
    "\n",
    "# Format as multi-fields\n",
    "ds_xco2 = ds[[\"xco2\", \"xco2_var\"]]\n",
    "ds_sif = ds[[\"sif\", \"sif_var\"]]\n",
    "\n",
    "var_names = [\"xco2\", \"sif\"]\n",
    "cross_name = \"xco2:sif\""
   ]
  },
  {
   "cell_type": "code",
   "execution_count": 61,
   "id": "familiar-transmission",
   "metadata": {},
   "outputs": [],
   "source": [
    "# Analysis variables\n",
    "month = 8\n",
    "timedelta = -2\n",
    "n_bins = 50\n",
    "fast_dist = True\n",
    "\n",
    "timestamps = np.array(ds.time[ds.time.dt.month == month].values, dtype=\"datetime64[D]\")"
   ]
  },
  {
   "cell_type": "code",
   "execution_count": 74,
   "id": "instant-studio",
   "metadata": {},
   "outputs": [],
   "source": [
    "mf = fields.MultiField(ds_xco2, ds_sif, timestamps[1], timedelta=timedelta, fast_dist=fast_dist)"
   ]
  },
  {
   "cell_type": "code",
   "execution_count": 75,
   "id": "mathematical-disaster",
   "metadata": {},
   "outputs": [
    {
     "data": {
      "text/html": [
       "<div>\n",
       "<style scoped>\n",
       "    .dataframe tbody tr th:only-of-type {\n",
       "        vertical-align: middle;\n",
       "    }\n",
       "\n",
       "    .dataframe tbody tr th {\n",
       "        vertical-align: top;\n",
       "    }\n",
       "\n",
       "    .dataframe thead th {\n",
       "        text-align: right;\n",
       "    }\n",
       "</style>\n",
       "<table border=\"1\" class=\"dataframe\">\n",
       "  <thead>\n",
       "    <tr style=\"text-align: right;\">\n",
       "      <th></th>\n",
       "      <th>lat</th>\n",
       "      <th>lon</th>\n",
       "      <th>xco2</th>\n",
       "      <th>lon_group</th>\n",
       "    </tr>\n",
       "  </thead>\n",
       "  <tbody>\n",
       "    <tr>\n",
       "      <th>0</th>\n",
       "      <td>14.0</td>\n",
       "      <td>-123.5</td>\n",
       "      <td>-1.027357</td>\n",
       "      <td>-122.5</td>\n",
       "    </tr>\n",
       "    <tr>\n",
       "      <th>1</th>\n",
       "      <td>14.0</td>\n",
       "      <td>-123.0</td>\n",
       "      <td>-0.751305</td>\n",
       "      <td>-122.5</td>\n",
       "    </tr>\n",
       "    <tr>\n",
       "      <th>2</th>\n",
       "      <td>14.0</td>\n",
       "      <td>-122.5</td>\n",
       "      <td>-0.536773</td>\n",
       "      <td>-122.5</td>\n",
       "    </tr>\n",
       "    <tr>\n",
       "      <th>3</th>\n",
       "      <td>14.0</td>\n",
       "      <td>-122.0</td>\n",
       "      <td>-0.570735</td>\n",
       "      <td>-122.5</td>\n",
       "    </tr>\n",
       "    <tr>\n",
       "      <th>4</th>\n",
       "      <td>14.0</td>\n",
       "      <td>-121.5</td>\n",
       "      <td>-0.596780</td>\n",
       "      <td>-122.5</td>\n",
       "    </tr>\n",
       "    <tr>\n",
       "      <th>...</th>\n",
       "      <td>...</td>\n",
       "      <td>...</td>\n",
       "      <td>...</td>\n",
       "      <td>...</td>\n",
       "    </tr>\n",
       "    <tr>\n",
       "      <th>595</th>\n",
       "      <td>50.0</td>\n",
       "      <td>-68.5</td>\n",
       "      <td>-1.348299</td>\n",
       "      <td>-67.5</td>\n",
       "    </tr>\n",
       "    <tr>\n",
       "      <th>596</th>\n",
       "      <td>50.0</td>\n",
       "      <td>-68.0</td>\n",
       "      <td>-1.342613</td>\n",
       "      <td>-67.5</td>\n",
       "    </tr>\n",
       "    <tr>\n",
       "      <th>597</th>\n",
       "      <td>50.0</td>\n",
       "      <td>-67.5</td>\n",
       "      <td>-1.336928</td>\n",
       "      <td>-67.5</td>\n",
       "    </tr>\n",
       "    <tr>\n",
       "      <th>598</th>\n",
       "      <td>50.0</td>\n",
       "      <td>-67.0</td>\n",
       "      <td>-1.331242</td>\n",
       "      <td>-67.5</td>\n",
       "    </tr>\n",
       "    <tr>\n",
       "      <th>599</th>\n",
       "      <td>50.0</td>\n",
       "      <td>-66.5</td>\n",
       "      <td>-1.273799</td>\n",
       "      <td>-67.5</td>\n",
       "    </tr>\n",
       "  </tbody>\n",
       "</table>\n",
       "<p>600 rows × 4 columns</p>\n",
       "</div>"
      ],
      "text/plain": [
       "      lat    lon      xco2 lon_group\n",
       "0    14.0 -123.5 -1.027357    -122.5\n",
       "1    14.0 -123.0 -0.751305    -122.5\n",
       "2    14.0 -122.5 -0.536773    -122.5\n",
       "3    14.0 -122.0 -0.570735    -122.5\n",
       "4    14.0 -121.5 -0.596780    -122.5\n",
       "..    ...    ...       ...       ...\n",
       "595  50.0  -68.5 -1.348299     -67.5\n",
       "596  50.0  -68.0 -1.342613     -67.5\n",
       "597  50.0  -67.5 -1.336928     -67.5\n",
       "598  50.0  -67.0 -1.331242     -67.5\n",
       "599  50.0  -66.5 -1.273799     -67.5\n",
       "\n",
       "[600 rows x 4 columns]"
      ]
     },
     "execution_count": 75,
     "metadata": {},
     "output_type": "execute_result"
    }
   ],
   "source": [
    "mf.field_1.df_micro"
   ]
  },
  {
   "cell_type": "code",
   "execution_count": 81,
   "id": "weekly-domestic",
   "metadata": {},
   "outputs": [],
   "source": [
    "# Apply microlag_clouds across lon_groups, concat each cloud type into it's own df (3 total), then append these dfs in empirical_variogram\n",
    "df_ml = mf.field_1.df_micro.groupby([\"lat\", \"lon_group\"]).apply(vgm.microlag_clouds, \"xco2\")\n",
    "# .reset_index().drop(columns=[\"lat\", \"lon_group\", \"level_2\"]).dropna(subset=[\"distance\"])"
   ]
  },
  {
   "cell_type": "code",
   "execution_count": 82,
   "id": "coupled-prize",
   "metadata": {},
   "outputs": [
    {
     "data": {
      "text/html": [
       "<div>\n",
       "<style scoped>\n",
       "    .dataframe tbody tr th:only-of-type {\n",
       "        vertical-align: middle;\n",
       "    }\n",
       "\n",
       "    .dataframe tbody tr th {\n",
       "        vertical-align: top;\n",
       "    }\n",
       "\n",
       "    .dataframe thead th {\n",
       "        text-align: right;\n",
       "    }\n",
       "</style>\n",
       "<table border=\"1\" class=\"dataframe\">\n",
       "  <thead>\n",
       "    <tr style=\"text-align: right;\">\n",
       "      <th></th>\n",
       "      <th></th>\n",
       "      <th></th>\n",
       "      <th>distance</th>\n",
       "      <th>variogram</th>\n",
       "    </tr>\n",
       "    <tr>\n",
       "      <th>lat</th>\n",
       "      <th>lon_group</th>\n",
       "      <th></th>\n",
       "      <th></th>\n",
       "      <th></th>\n",
       "    </tr>\n",
       "  </thead>\n",
       "  <tbody>\n",
       "    <tr>\n",
       "      <th rowspan=\"5\" valign=\"top\">14.0</th>\n",
       "      <th rowspan=\"5\" valign=\"top\">-122.5</th>\n",
       "      <th>0</th>\n",
       "      <td>53.945971</td>\n",
       "      <td>0.038102</td>\n",
       "    </tr>\n",
       "    <tr>\n",
       "      <th>1</th>\n",
       "      <td>107.891882</td>\n",
       "      <td>0.120336</td>\n",
       "    </tr>\n",
       "    <tr>\n",
       "      <th>2</th>\n",
       "      <td>161.837673</td>\n",
       "      <td>0.104252</td>\n",
       "    </tr>\n",
       "    <tr>\n",
       "      <th>3</th>\n",
       "      <td>215.783283</td>\n",
       "      <td>0.092698</td>\n",
       "    </tr>\n",
       "    <tr>\n",
       "      <th>4</th>\n",
       "      <td>53.945971</td>\n",
       "      <td>0.023012</td>\n",
       "    </tr>\n",
       "  </tbody>\n",
       "</table>\n",
       "</div>"
      ],
      "text/plain": [
       "                    distance  variogram\n",
       "lat  lon_group                         \n",
       "14.0 -122.5    0   53.945971   0.038102\n",
       "               1  107.891882   0.120336\n",
       "               2  161.837673   0.104252\n",
       "               3  215.783283   0.092698\n",
       "               4   53.945971   0.023012"
      ]
     },
     "execution_count": 82,
     "metadata": {},
     "output_type": "execute_result"
    }
   ],
   "source": [
    "df_ml.head()"
   ]
  },
  {
   "cell_type": "code",
   "execution_count": 59,
   "id": "diagnostic-adams",
   "metadata": {},
   "outputs": [
    {
     "data": {
      "text/plain": [
       "<AxesSubplot:xlabel='distance', ylabel='variogram_cross'>"
      ]
     },
     "execution_count": 59,
     "metadata": {},
     "output_type": "execute_result"
    },
    {
     "data": {
      "image/png": "[encoded data removed]",
      "text/plain": [
       "<Figure size 432x288 with 1 Axes>"
      ]
     },
     "metadata": {
      "needs_background": "light"
     },
     "output_type": "display_data"
    }
   ],
   "source": [
    "df_ml.plot(x=\"distance\", y=\"variogram_cross\", kind=\"scatter\")"
   ]
  },
  {
   "cell_type": "code",
   "execution_count": null,
   "id": "social-diversity",
   "metadata": {},
   "outputs": [],
   "source": []
  },
  {
   "cell_type": "code",
   "execution_count": null,
   "id": "pleasant-health",
   "metadata": {},
   "outputs": [],
   "source": []
  }
 ],
 "metadata": {
  "kernelspec": {
   "display_name": "Python 3",
   "language": "python",
   "name": "python3"
  },
  "language_info": {
   "codemirror_mode": {
    "name": "ipython",
    "version": 3
   },
   "file_extension": ".py",
   "mimetype": "text/x-python",
   "name": "python",
   "nbconvert_exporter": "python",
   "pygments_lexer": "ipython3",
   "version": "3.7.10"
  }
 },
 "nbformat": 4,
 "nbformat_minor": 5
}

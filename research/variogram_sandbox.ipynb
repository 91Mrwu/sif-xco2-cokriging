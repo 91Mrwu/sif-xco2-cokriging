{
 "cells": [
  {
   "cell_type": "code",
   "execution_count": 1,
   "id": "significant-routine",
   "metadata": {},
   "outputs": [],
   "source": [
    "%load_ext autoreload\n",
    "%autoreload 2"
   ]
  },
  {
   "cell_type": "code",
   "execution_count": 2,
   "id": "brutal-width",
   "metadata": {},
   "outputs": [],
   "source": [
    "import sys\n",
    "sys.path.insert(0, \"../src\")"
   ]
  },
  {
   "cell_type": "code",
   "execution_count": 3,
   "id": "similar-curtis",
   "metadata": {},
   "outputs": [],
   "source": [
    "import numpy as np\n",
    "import pandas as pd\n",
    "import xarray as xr\n",
    "import matplotlib.pyplot as plt\n",
    "import seaborn as sns\n",
    "\n",
    "import fields\n",
    "import variogram as vgm"
   ]
  },
  {
   "cell_type": "code",
   "execution_count": 4,
   "id": "interior-ordinance",
   "metadata": {},
   "outputs": [],
   "source": [
    "# Analysis variables\n",
    "timestamps = [\"2016-07-01\", \"2019-08-01\"]\n",
    "tols = [100, 250]\n",
    "timedeltas = [-1, -2]\n",
    "space_lags = np.linspace(0, 4.5e3, 20)\n",
    "\n",
    "timestamp = timestamps[1]\n",
    "tol = tols[1]\n",
    "timedelta = timedeltas[0]\n",
    "\n",
    "# Initial guess for covariance params\n",
    "cov_guess = [0.4, 1e3, 0.1]\n",
    "cross_guess = [1e3, -0.1]"
   ]
  },
  {
   "cell_type": "code",
   "execution_count": 5,
   "id": "pharmaceutical-cause",
   "metadata": {},
   "outputs": [],
   "source": [
    "# Get data: 5-degree monthly average, cont. US\n",
    "ds = xr.open_dataset(\"../data/exp_pro/OCO2_5deg_monthly_conus.nc\")\n",
    "\n",
    "ds_xco2 = ds[[\"xco2\", \"xco2_var\"]]\n",
    "ds_sif = ds[[\"sif\", \"sif_var\"]]"
   ]
  },
  {
   "cell_type": "code",
   "execution_count": 6,
   "id": "present-insight",
   "metadata": {},
   "outputs": [
    {
     "name": "stderr",
     "output_type": "stream",
     "text": [
      "/home/jj829/sif-data-fusion/conda-env/lib/python3.7/site-packages/numpy/lib/nanfunctions.py:1665: RuntimeWarning: Degrees of freedom <= 0 for slice.\n",
      "  keepdims=keepdims)\n",
      "/home/jj829/sif-data-fusion/conda-env/lib/python3.7/site-packages/numpy/lib/nanfunctions.py:1665: RuntimeWarning: Degrees of freedom <= 0 for slice.\n",
      "  keepdims=keepdims)\n"
     ]
    }
   ],
   "source": [
    "mf = fields.MultiField(ds_xco2, ds_sif, timestamp, timedelta=timedelta, full_detrend=True, standardize_window=True)"
   ]
  },
  {
   "cell_type": "code",
   "execution_count": 7,
   "id": "informational-corporation",
   "metadata": {},
   "outputs": [],
   "source": [
    "vario_res, params_fit = vgm.variogram_analysis(\n",
    "    mf,\n",
    "    space_lags,\n",
    "    tol,\n",
    "    cov_guess,\n",
    "    cross_guess\n",
    ")"
   ]
  },
  {
   "cell_type": "code",
   "execution_count": 8,
   "id": "advance-night",
   "metadata": {},
   "outputs": [
    {
     "data": {
      "text/plain": [
       "{'xco2': array([6.13543523e-01, 1.53534617e+03, 1.35085004e-01]),\n",
       " 'sif': array([8.52827464e-01, 9.39910532e+02, 2.77578253e-01]),\n",
       " 'xco2:sif_back': array([ 4.e+03, -1.e+00]),\n",
       " 'xco2:sif_forward': array([3.37597056e+03, 2.08103661e-01])}"
      ]
     },
     "execution_count": 8,
     "metadata": {},
     "output_type": "execute_result"
    }
   ],
   "source": [
    "params_fit"
   ]
  },
  {
   "cell_type": "code",
   "execution_count": 11,
   "id": "filled-thought",
   "metadata": {},
   "outputs": [
    {
     "data": {
      "text/plain": [
       "{'xco2':             lag           xco2  counts   wls_fit\n",
       " 0      0.000000   0.000000e+00   864.0  0.157077\n",
       " 1    473.684211   2.257337e-01  4296.0  0.208257\n",
       " 2    710.526316  1.067802e+297  5472.0  0.255170\n",
       " 3    947.368421   2.866709e-01  7584.0  0.302834\n",
       " 4   1184.210526  1.134297e+297  8448.0  0.345725\n",
       " 5   1421.052632  1.202345e+297  9120.0  0.381491\n",
       " 6   1657.894737  1.232549e+297  9576.0  0.409790\n",
       " 7   1894.736842   3.992670e-01  9648.0  0.431332\n",
       " 8   2131.578947   4.464735e-01  9288.0  0.447254\n",
       " 9   2368.421053  1.397634e+297  9504.0  0.458749\n",
       " 10  2605.263158  1.480723e+297  9168.0  0.466892\n",
       " 11  2842.105263  1.505572e+297  8952.0  0.472571\n",
       " 12  3078.947368   5.146461e-01  6648.0  0.476478\n",
       " 13  3315.789474   5.083658e-01  7368.0  0.479137\n",
       " 14  3552.631579   4.846966e-01  6672.0  0.480928\n",
       " 15  3789.473684  1.769942e+297  5304.0  0.482125\n",
       " 16  4026.315789   4.961000e-01  4344.0  0.482918,\n",
       " 'sif':             lag            sif   counts   wls_fit\n",
       " 0      0.000000   0.000000e+00   1092.0  0.316358\n",
       " 1    473.684211   4.273592e-01   5488.0  0.427532\n",
       " 2    710.526316   5.541022e-01   7308.0  0.529432\n",
       " 3    947.368421  6.395625e+296  10080.0  0.632958\n",
       " 4   1184.210526  5.969805e+296  11060.0  0.726112\n",
       " 5   1421.052632  6.522223e+296  12124.0  0.803789\n",
       " 6   1657.894737  7.184782e+296  12768.0  0.865243\n",
       " 7   1894.736842  6.375029e+296  12740.0  0.912022\n",
       " 8   2131.578947   9.262604e-01  12572.0  0.946595\n",
       " 9   2368.421053   9.490851e-01  12880.0  0.971554\n",
       " 10  2605.263158  7.034124e+296  12460.0  0.989234\n",
       " 11  2842.105263   9.681052e-01  12404.0  1.001562\n",
       " 12  3078.947368   1.058088e+00   9408.0  1.010045\n",
       " 13  3315.789474   1.026308e+00  10416.0  1.015816\n",
       " 14  3552.631579  6.852147e+296   9380.0  1.019704\n",
       " 15  3789.473684   1.070708e+00   7532.0  1.022302\n",
       " 16  4026.315789  6.795691e+296   6076.0  1.024024,\n",
       " 'xco2:sif_back':             lag  xco2:sif  counts   wls_fit\n",
       " 0      0.000000 -0.672401   786.0 -0.482390\n",
       " 1    473.684211 -0.660733  4111.0 -0.476839\n",
       " 2    710.526316 -0.627966  5255.0 -0.470112\n",
       " 3    947.368421 -0.617130  7263.0 -0.461041\n",
       " 4   1184.210526 -0.620505  8069.0 -0.449898\n",
       " 5   1421.052632 -0.605759  8706.0 -0.436976\n",
       " 6   1657.894737 -0.556010  9120.0 -0.422571\n",
       " 7   1894.736842 -0.572377  9193.0 -0.406974\n",
       " 8   2131.578947 -0.548761  8901.0 -0.390459\n",
       " 9   2368.421053 -0.542903  9063.0 -0.373282\n",
       " 10  2605.263158 -0.553677  8730.0 -0.355674\n",
       " 11  2842.105263 -0.546239  8609.0 -0.337844\n",
       " 12  3078.947368 -0.508257  6444.0 -0.319975\n",
       " 13  3315.789474 -0.533298  7054.0 -0.302226\n",
       " 14  3552.631579 -0.551743  6357.0 -0.284731\n",
       " 15  3789.473684 -0.528307  5061.0 -0.267606\n",
       " 16  4026.315789 -0.538577  4079.0 -0.250943,\n",
       " 'xco2:sif_forward':             lag  xco2:sif  counts   wls_fit\n",
       " 0      0.000000  0.092841   787.0  0.108889\n",
       " 1    473.684211  0.101265  4117.0  0.107140\n",
       " 2    710.526316  0.096783  5269.0  0.105044\n",
       " 3    947.368421  0.103006  7281.0  0.102252\n",
       " 4   1184.210526  0.095817  8086.0  0.098872\n",
       " 5   1421.052632  0.086541  8731.0  0.095015\n",
       " 6   1657.894737  0.099095  9132.0  0.090789\n",
       " 7   1894.736842  0.096123  9205.0  0.086297\n",
       " 8   2131.578947  0.092697  8916.0  0.081631\n",
       " 9   2368.421053  0.084017  9073.0  0.076873\n",
       " 10  2605.263158  0.076204  8749.0  0.072094\n",
       " 11  2842.105263  0.062603  8648.0  0.067354\n",
       " 12  3078.947368  0.075926  6473.0  0.062703\n",
       " 13  3315.789474  0.048417  7074.0  0.058182\n",
       " 14  3552.631579  0.048262  6371.0  0.053821\n",
       " 15  3789.473684  0.054557  5071.0  0.049646\n",
       " 16  4026.315789  0.049775  4085.0  0.045673}"
      ]
     },
     "execution_count": 11,
     "metadata": {},
     "output_type": "execute_result"
    }
   ],
   "source": [
    "vario_res"
   ]
  },
  {
   "cell_type": "code",
   "execution_count": 21,
   "id": "motivated-socket",
   "metadata": {},
   "outputs": [
    {
     "ename": "NameError",
     "evalue": "name 'df_vgm' is not defined",
     "output_type": "error",
     "traceback": [
      "\u001b[0;31m---------------------------------------------------------------------------\u001b[0m",
      "\u001b[0;31mNameError\u001b[0m                                 Traceback (most recent call last)",
      "\u001b[0;32m<ipython-input-21-8df54dd93cef>\u001b[0m in \u001b[0;36m<module>\u001b[0;34m\u001b[0m\n\u001b[0;32m----> 1\u001b[0;31m \u001b[0mxco2_params\u001b[0m\u001b[0;34m,\u001b[0m \u001b[0mdf_vgm\u001b[0m\u001b[0;34m[\u001b[0m\u001b[0;34m\"xco2_fit\"\u001b[0m\u001b[0;34m]\u001b[0m \u001b[0;34m=\u001b[0m \u001b[0mvgm\u001b[0m\u001b[0;34m.\u001b[0m\u001b[0mfit_variogram_wls\u001b[0m\u001b[0;34m(\u001b[0m\u001b[0mdf_vgm\u001b[0m\u001b[0;34m[\u001b[0m\u001b[0;34m\"lag\"\u001b[0m\u001b[0;34m]\u001b[0m\u001b[0;34m,\u001b[0m \u001b[0mdf_vgm\u001b[0m\u001b[0;34m[\u001b[0m\u001b[0;34m\"xco2\"\u001b[0m\u001b[0;34m]\u001b[0m\u001b[0;34m,\u001b[0m \u001b[0mdf_vgm\u001b[0m\u001b[0;34m[\u001b[0m\u001b[0;34m\"xco2_counts\"\u001b[0m\u001b[0;34m]\u001b[0m\u001b[0;34m,\u001b[0m \u001b[0mvgm_guess\u001b[0m\u001b[0;34m)\u001b[0m\u001b[0;34m\u001b[0m\u001b[0;34m\u001b[0m\u001b[0m\n\u001b[0m\u001b[1;32m      2\u001b[0m \u001b[0msif_params\u001b[0m\u001b[0;34m,\u001b[0m \u001b[0mdf_vgm\u001b[0m\u001b[0;34m[\u001b[0m\u001b[0;34m\"sif_fit\"\u001b[0m\u001b[0;34m]\u001b[0m \u001b[0;34m=\u001b[0m \u001b[0mvgm\u001b[0m\u001b[0;34m.\u001b[0m\u001b[0mfit_variogram_wls\u001b[0m\u001b[0;34m(\u001b[0m\u001b[0mdf_vgm\u001b[0m\u001b[0;34m[\u001b[0m\u001b[0;34m\"lag\"\u001b[0m\u001b[0;34m]\u001b[0m\u001b[0;34m,\u001b[0m \u001b[0mdf_vgm\u001b[0m\u001b[0;34m[\u001b[0m\u001b[0;34m\"sif\"\u001b[0m\u001b[0;34m]\u001b[0m\u001b[0;34m,\u001b[0m \u001b[0mdf_vgm\u001b[0m\u001b[0;34m[\u001b[0m\u001b[0;34m\"sif_counts\"\u001b[0m\u001b[0;34m]\u001b[0m\u001b[0;34m,\u001b[0m \u001b[0mvgm_guess\u001b[0m\u001b[0;34m)\u001b[0m\u001b[0;34m\u001b[0m\u001b[0;34m\u001b[0m\u001b[0m\n\u001b[1;32m      3\u001b[0m \u001b[0;34m\u001b[0m\u001b[0m\n\u001b[1;32m      4\u001b[0m \u001b[0msigmas\u001b[0m \u001b[0;34m=\u001b[0m \u001b[0;34m[\u001b[0m\u001b[0mxco2_params\u001b[0m\u001b[0;34m[\u001b[0m\u001b[0;36m0\u001b[0m\u001b[0;34m]\u001b[0m\u001b[0;34m,\u001b[0m \u001b[0msif_params\u001b[0m\u001b[0;34m[\u001b[0m\u001b[0;36m0\u001b[0m\u001b[0;34m]\u001b[0m\u001b[0;34m]\u001b[0m\u001b[0;34m\u001b[0m\u001b[0;34m\u001b[0m\u001b[0m\n\u001b[1;32m      5\u001b[0m \u001b[0mcross_params_back\u001b[0m\u001b[0;34m,\u001b[0m \u001b[0mdf_cov\u001b[0m\u001b[0;34m[\u001b[0m\u001b[0;34m\"cross_fit_back\"\u001b[0m\u001b[0;34m]\u001b[0m \u001b[0;34m=\u001b[0m \u001b[0mvgm\u001b[0m\u001b[0;34m.\u001b[0m\u001b[0mfit_variogram_wls\u001b[0m\u001b[0;34m(\u001b[0m\u001b[0mdf_cov\u001b[0m\u001b[0;34m[\u001b[0m\u001b[0;34m\"lag\"\u001b[0m\u001b[0;34m]\u001b[0m\u001b[0;34m,\u001b[0m \u001b[0mdf_cov\u001b[0m\u001b[0;34m[\u001b[0m\u001b[0;34m\"xco2:sif_back\"\u001b[0m\u001b[0;34m]\u001b[0m\u001b[0;34m,\u001b[0m \u001b[0mdf_cov\u001b[0m\u001b[0;34m[\u001b[0m\u001b[0;34m\"xco2:sif_counts_back\"\u001b[0m\u001b[0;34m]\u001b[0m\u001b[0;34m,\u001b[0m \u001b[0mcross_guess\u001b[0m\u001b[0;34m,\u001b[0m \u001b[0msigmas\u001b[0m\u001b[0;34m=\u001b[0m\u001b[0msigmas\u001b[0m\u001b[0;34m)\u001b[0m\u001b[0;34m\u001b[0m\u001b[0;34m\u001b[0m\u001b[0m\n",
      "\u001b[0;31mNameError\u001b[0m: name 'df_vgm' is not defined"
     ]
    }
   ],
   "source": [
    "xco2_params, df_vgm[\"xco2_fit\"] = vgm.fit_variogram_wls(df_vgm[\"lag\"], df_vgm[\"xco2\"], df_vgm[\"xco2_counts\"], vgm_guess)\n",
    "sif_params, df_vgm[\"sif_fit\"] = vgm.fit_variogram_wls(df_vgm[\"lag\"], df_vgm[\"sif\"], df_vgm[\"sif_counts\"], vgm_guess)\n",
    "\n",
    "sigmas = [xco2_params[0], sif_params[0]]\n",
    "cross_params_back, df_cov[\"cross_fit_back\"] = vgm.fit_variogram_wls(df_cov[\"lag\"], df_cov[\"xco2:sif_back\"], df_cov[\"xco2:sif_counts_back\"], cross_guess, sigmas=sigmas)\n",
    "cross_params_forward, df_cov[\"cross_fit_forward\"] = vgm.fit_variogram_wls(df_cov[\"lag\"], df_cov[\"xco2:sif_forward\"], df_cov[\"xco2:sif_counts_forward\"], cross_guess, sigmas=sigmas)"
   ]
  },
  {
   "cell_type": "code",
   "execution_count": null,
   "id": "spare-factory",
   "metadata": {},
   "outputs": [],
   "source": []
  }
 ],
 "metadata": {
  "kernelspec": {
   "display_name": "Python 3",
   "language": "python",
   "name": "python3"
  },
  "language_info": {
   "codemirror_mode": {
    "name": "ipython",
    "version": 3
   },
   "file_extension": ".py",
   "mimetype": "text/x-python",
   "name": "python",
   "nbconvert_exporter": "python",
   "pygments_lexer": "ipython3",
   "version": "3.7.10"
  }
 },
 "nbformat": 4,
 "nbformat_minor": 5
}

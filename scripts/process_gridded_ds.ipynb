{
 "cells": [
  {
   "cell_type": "markdown",
   "metadata": {},
   "source": [
    "# Create 5-degree monthly average gridded dataset for SIF and XCO2\n",
    "---"
   ]
  },
  {
   "cell_type": "code",
   "execution_count": 1,
   "metadata": {},
   "outputs": [],
   "source": [
    "import sys\n",
    "sys.path.insert(0, \"../src\")\n",
    "\n",
    "import xarray\n",
    "import data_utils as utils"
   ]
  },
  {
   "cell_type": "code",
   "execution_count": null,
   "metadata": {},
   "outputs": [],
   "source": [
    "DS_sif = xarray.open_dataset(\"../data/exp_pro/OCO2_Lite_SIF740.nc\")\n",
    "DS_xco2 = xarray.open_dataset(\"../data/exp_pro/OCO2_Lite_XCO2_land.nc\")"
   ]
  },
  {
   "cell_type": "code",
   "execution_count": null,
   "metadata": {},
   "outputs": [],
   "source": [
    "df_sif_monthly = (\n",
    "    utils.regrid(DS_sif, res=5)\n",
    "    .groupby([\"lon\", \"lat\"])\n",
    "    .resample(\"1MS\")\n",
    "    .mean()\n",
    "    .drop(columns=[\"lon\", \"lat\"])\n",
    "    .reset_index()\n",
    ")\n",
    "df_xco2_monthly = (\n",
    "    utils.regrid(DS_xco2, res=5)\n",
    "    .groupby([\"lon\", \"lat\"])\n",
    "    .resample(\"1MS\")\n",
    "    .mean()\n",
    "    .drop(columns=[\"lon\", \"lat\"])\n",
    "    .reset_index()\n",
    ")\n",
    "\n",
    "# Merge dataframes\n",
    "DS_grid = (\n",
    "    pd.merge(df_sif_monthly, df_xco2_monthly, on=[\"lon\", \"lat\", \"time\"], how=\"outer\")\n",
    "    .set_index([\"lon\", \"lat\", \"time\"])\n",
    "    .to_xarray()\n",
    ")\n",
    "DS_grid"
   ]
  },
  {
   "cell_type": "code",
   "execution_count": null,
   "metadata": {},
   "outputs": [],
   "source": [
    "DS_grid.to_netcdf(\"../data/exp_pro/OCO2_5deg_monthly.nc\", format=\"NETCDF4\")\n",
    "DS_grid.close()"
   ]
  }
 ],
 "metadata": {
  "kernelspec": {
   "display_name": "Python 3",
   "language": "python",
   "name": "python3"
  },
  "language_info": {
   "codemirror_mode": {
    "name": "ipython",
    "version": 3
   },
   "file_extension": ".py",
   "mimetype": "text/x-python",
   "name": "python",
   "nbconvert_exporter": "python",
   "pygments_lexer": "ipython3",
   "version": "3.7.9"
  }
 },
 "nbformat": 4,
 "nbformat_minor": 4
}

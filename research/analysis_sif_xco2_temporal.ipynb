{
 "cells": [
  {
   "cell_type": "markdown",
   "metadata": {},
   "source": [
    "# Temporal Analysis of SIF and XCO2\n",
    "---"
   ]
  },
  {
   "cell_type": "code",
   "execution_count": 1,
   "metadata": {},
   "outputs": [],
   "source": [
    "import numpy as np\n",
    "import pandas as pd\n",
    "import xarray\n",
    "import matplotlib.pyplot as plt\n",
    "import seaborn as sns\n",
    "\n",
    "from dask.distributed import Client"
   ]
  },
  {
   "cell_type": "markdown",
   "metadata": {},
   "source": [
    "## Setup dask cluster"
   ]
  },
  {
   "cell_type": "code",
   "execution_count": 2,
   "metadata": {},
   "outputs": [
    {
     "data": {
      "text/html": [
       "<table style=\"border: 2px solid white;\">\n",
       "<tr>\n",
       "<td style=\"vertical-align: top; border: 0px solid white\">\n",
       "<h3 style=\"text-align: left;\">Client</h3>\n",
       "<ul style=\"text-align: left; list-style: none; margin: 0; padding: 0;\">\n",
       "  <li><b>Scheduler: </b>tcp://127.0.0.1:41481</li>\n",
       "  <li><b>Dashboard: </b><a href='http://127.0.0.1:8889/status' target='_blank'>http://127.0.0.1:8889/status</a></li>\n",
       "</ul>\n",
       "</td>\n",
       "<td style=\"vertical-align: top; border: 0px solid white\">\n",
       "<h3 style=\"text-align: left;\">Cluster</h3>\n",
       "<ul style=\"text-align: left; list-style:none; margin: 0; padding: 0;\">\n",
       "  <li><b>Workers: </b>8</li>\n",
       "  <li><b>Cores: </b>64</li>\n",
       "  <li><b>Memory: </b>270.51 GB</li>\n",
       "</ul>\n",
       "</td>\n",
       "</tr>\n",
       "</table>"
      ],
      "text/plain": [
       "<Client: 'tcp://127.0.0.1:41481' processes=8 threads=64, memory=270.51 GB>"
      ]
     },
     "execution_count": 2,
     "metadata": {},
     "output_type": "execute_result"
    }
   ],
   "source": [
    "client = Client(n_workers=8, dashboard_address=\":8889\")\n",
    "client"
   ]
  },
  {
   "cell_type": "markdown",
   "metadata": {},
   "source": [
    "## Data processing"
   ]
  },
  {
   "cell_type": "code",
   "execution_count": 3,
   "metadata": {},
   "outputs": [],
   "source": [
    "def prep_sif(ds):\n",
    "    \"\"\"Preprocess a SIF Lite file\"\"\"\n",
    "    \n",
    "    # Drop unused variables\n",
    "    variable_list = [\"Daily_SIF_740nm\", \"SIF_Uncertainty_740nm\", \"Quality_Flag\", \"Longitude\", \"Latitude\", \"Delta_Time\"]\n",
    "    ds = ds[variable_list]\n",
    "    \n",
    "    # Apply quality filters\n",
    "    ds[\"SIF_plus_3sig\"] = ds.Daily_SIF_740nm + 3*ds.SIF_Uncertainty_740nm\n",
    "    ds = ds.where(ds.Quality_Flag != 2, drop=True)\n",
    "    ds = ds.where(ds.SIF_plus_3sig > 0, drop=True)\n",
    "\n",
    "    # Format dataset\n",
    "    dsnew = xarray.Dataset(\n",
    "        {\n",
    "            \"sif\": ([\"time\"], ds.Daily_SIF_740nm),\n",
    "        },\n",
    "        coords={\n",
    "            \"lon\": ([\"time\"], ds.Longitude),\n",
    "            \"lat\": ([\"time\"], ds.Latitude),\n",
    "            \"time\": ds.Delta_Time.values\n",
    "        }\n",
    "    )\n",
    "    return dsnew\n",
    "\n",
    "\n",
    "def prep_xco2(ds):\n",
    "    \"\"\"Preprocess an FP Lite file\"\"\"\n",
    "    \n",
    "    # Drop unused variables\n",
    "    variable_list = [\"xco2\", \"xco2_quality_flag\", \"longitude\", \"latitude\", \"time\"]\n",
    "    ds = ds[variable_list]\n",
    "    \n",
    "    # Apply quality filters\n",
    "    ds = ds.where(ds.xco2_quality_flag == 0, drop=True)\n",
    "\n",
    "    # Format dataset\n",
    "    dsnew = xarray.Dataset(\n",
    "        {\n",
    "            \"xco2\": ([\"time\"], ds.xco2),\n",
    "        },\n",
    "        coords={\n",
    "            \"lon\": ([\"time\"], ds.longitude),\n",
    "            \"lat\": ([\"time\"], ds.latitude),\n",
    "            \"time\": ds.time.values\n",
    "        }\n",
    "    )\n",
    "    return dsnew"
   ]
  },
  {
   "cell_type": "code",
   "execution_count": null,
   "metadata": {},
   "outputs": [
    {
     "name": "stderr",
     "output_type": "stream",
     "text": [
      "distributed.scheduler - ERROR - Couldn't gather keys {\"('copy-56f6a260e33798530828da688c8693fe', 0)\": []} state: ['erred'] workers: []\n",
      "NoneType: None\n"
     ]
    }
   ],
   "source": [
    "## test with just SIF first, then do xco2; chunks={\"sounding_dim\": 5000}, \n",
    "\n",
    "# Open datasets for all years\n",
    "paths_sif = \"/data/OCO-2/OCO2_L2_Lite_SIF.10r/*/*.nc4\"\n",
    "paths_xco2 = \"/data/OCO-2/OCO2_L2_Lite_FP.10r/*/*.nc4\"\n",
    "\n",
    "DS_sif = xarray.open_mfdataset(paths_sif, preprocess=prep_sif, \n",
    "                               parallel=True)\n",
    "# DS_xco2 = xarray.open_mfdataset(paths_xco2, preprocess=prep_xco2, \n",
    "#                                 chunks={\"sounding_id\": 5000}, parallel=True)"
   ]
  },
  {
   "cell_type": "markdown",
   "metadata": {},
   "source": [
    "## Monthly time series comparison"
   ]
  },
  {
   "cell_type": "code",
   "execution_count": null,
   "metadata": {},
   "outputs": [],
   "source": [
    "# Compute monthly climatologies\n",
    "df_sif = DS_sif.sif.resample(time=\"1MS\").mean(dim=\"time\").to_dataframe().drop_na()\n",
    "df_xco2 = DS_xco2.xco2.resample(time=\"1MS\").mean(dim=\"time\").to_dataframe().drop_na()\n",
    "\n",
    "# Merge dataframes\n",
    "df = pd.merge(df_sif, df_xco2, how=\"inner\", on=[\"lon\", \"lat\", \"time\"]).reset_index()\n",
    "df[\"time\"] = df.time.dt.strftime(\"%Y-%m\").sort_values(by=\"time\")\n",
    "\n",
    "df.head()"
   ]
  }
 ],
 "metadata": {
  "kernelspec": {
   "display_name": "Python 3",
   "language": "python",
   "name": "python3"
  },
  "language_info": {
   "codemirror_mode": {
    "name": "ipython",
    "version": 3
   },
   "file_extension": ".py",
   "mimetype": "text/x-python",
   "name": "python",
   "nbconvert_exporter": "python",
   "pygments_lexer": "ipython3",
   "version": "3.7.9"
  }
 },
 "nbformat": 4,
 "nbformat_minor": 4
}

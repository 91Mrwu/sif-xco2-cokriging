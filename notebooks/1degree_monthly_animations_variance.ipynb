{
 "cells": [
  {
   "cell_type": "markdown",
   "metadata": {},
   "source": [
    "# Spatial Animations\n",
    "\n",
    "Resolution: 1-degree, monthly average\n",
    "\n",
    "---"
   ]
  },
  {
   "cell_type": "code",
   "execution_count": 1,
   "metadata": {},
   "outputs": [],
   "source": [
    "import sys\n",
    "sys.path.insert(0, \"../src\")"
   ]
  },
  {
   "cell_type": "code",
   "execution_count": 2,
   "metadata": {},
   "outputs": [],
   "source": [
    "import numpy as np\n",
    "import pandas as pd\n",
    "import xarray\n",
    "\n",
    "import matplotlib.pyplot as plt\n",
    "from matplotlib import colors\n",
    "import seaborn as sns\n",
    "import cartopy.crs as ccrs\n",
    "import cartopy\n",
    "\n",
    "from matplotlib.animation import FuncAnimation\n",
    "from IPython.display import HTML\n",
    "\n",
    "import data_utils as utils"
   ]
  },
  {
   "cell_type": "code",
   "execution_count": 3,
   "metadata": {},
   "outputs": [],
   "source": [
    "# Colormap\n",
    "# from matplotlib import colors\n",
    "# from palettable.scientific.sequential import Oleron_20\n",
    "\n",
    "# cm_sci = Oleron_20.mpl_colormap\n",
    "\n",
    "# # NOTE: this is almost identical to jet\n",
    "# nasa_palette = [\n",
    "#     \"#03006d\",\"#02008f\",\"#0000b6\",\"#0001ef\",\"#0000f6\",\n",
    "#     \"#0428f6\",\"#0b53f7\",\"#0f81f3\", \"#18b1f5\",\"#1ff0f7\",\n",
    "#     \"#27fada\",\"#3efaa3\",\"#5dfc7b\",\"#85fd4e\",\"#aefc2a\",\n",
    "#     \"#e9fc0d\",\"#f6da0c\",\"#f5a009\", \"#f6780a\",\"#f34a09\",\n",
    "#     \"#f2210a\",\"#f50008\",\"#d90009\",\"#a80109\",\"#730005\"]\n",
    "\n",
    "# cm_nasa = colors.LinearSegmentedColormap.from_list(\"nasa_palette\", nasa_palette, N=256)\n",
    "\n",
    "# offset = colors.TwoSlopeNorm(vcenter=0., vmin=-0.5, vmax=1.)"
   ]
  },
  {
   "cell_type": "code",
   "execution_count": 4,
   "metadata": {},
   "outputs": [],
   "source": [
    "DS_sif = xarray.open_dataset(\"../data/exp_pro/OCO2_Lite_SIF740.nc\")\n",
    "DS_xco2 = xarray.open_dataset(\"../data/exp_pro/OCO2_Lite_XCO2_land.nc\")"
   ]
  },
  {
   "cell_type": "code",
   "execution_count": 7,
   "metadata": {},
   "outputs": [],
   "source": [
    "# Cut datasets to a regular grid and resample to monthly averages within each grid cell\n",
    "DS_sif_monthly = (\n",
    "    utils.regrid(DS_sif)\n",
    "    .groupby([\"lon\", \"lat\"])\n",
    "    .resample(\"1MS\")\n",
    "    .mean()\n",
    "    .drop(columns=[\"lon\", \"lat\"])\n",
    "    .to_xarray()\n",
    ")\n",
    "\n",
    "DS_xco2_monthly = (\n",
    "    utils.regrid(DS_xco2)\n",
    "    .groupby([\"lon\", \"lat\"])\n",
    "    .resample(\"1MS\")\n",
    "    .mean()\n",
    "    .drop(columns=[\"lon\", \"lat\"])\n",
    "    .to_xarray()\n",
    ")"
   ]
  },
  {
   "cell_type": "code",
   "execution_count": null,
   "metadata": {},
   "outputs": [],
   "source": [
    "# Figure setup SIF\n",
    "fig = plt.figure(figsize=(12, 7))\n",
    "gs = fig.add_gridspec(100, 100)\n",
    "ax = fig.add_subplot(gs[0:95, :], projection=ccrs.EqualEarth())\n",
    "cbar_ax = fig.add_subplot(gs[95:, 5:95])\n",
    "\n",
    "def animate(month, cmap):\n",
    "    \"\"\"Update contour with new frame (each frame should be a monthly group)\"\"\"\n",
    "    da = DS_sif_monthly.sif_var.isel(time=month)\n",
    "    \n",
    "    ax.clear()\n",
    "    cbar_ax.clear()\n",
    "    \n",
    "    ax.set_global()\n",
    "    xarray.plot.imshow(da.T, ax=ax, cbar_ax=cbar_ax,\n",
    "                        transform=ccrs.PlateCarree(),\n",
    "                        cmap=cmap,\n",
    "                        cbar_kwargs={\n",
    "                            \"orientation\": \"horizontal\", \n",
    "                            \"label\": \"SIF variance [W/$m^2$/sr/$\\mu$m]\"\n",
    "                        })\n",
    "    \n",
    "    ax.coastlines()\n",
    "    ax.set_title(\n",
    "    \"OCO-2 SIF Lite: SIF 740nm Variance\\n\" \n",
    "    \"QAflags=[0,1], 1-degree Monthly Average \"\n",
    "    f\"{pd.to_datetime(da.time.values).strftime('%Y-%m-%d')}\"\n",
    "    )\n",
    "    \n",
    "\n",
    "mov = FuncAnimation(fig, animate, frames=DS_sif_monthly.time.size, \n",
    "                    interval=500, fargs=(\"jet\", ))\n",
    "\n",
    "HTML(mov.to_html5_video())\n",
    "mov.save(\"../plots/SIF_740_variance_1deg_monthly.mp4\", fps=2, dpi=250)"
   ]
  },
  {
   "cell_type": "code",
   "execution_count": null,
   "metadata": {},
   "outputs": [],
   "source": [
    "# Figure setup XCO2\n",
    "fig = plt.figure(figsize=(12, 7))\n",
    "gs = fig.add_gridspec(100, 100)\n",
    "ax = fig.add_subplot(gs[0:95, :], projection=ccrs.EqualEarth())\n",
    "cbar_ax = fig.add_subplot(gs[95:, 5:95])\n",
    "\n",
    "def animate(month, cmap):\n",
    "    \"\"\"Update contour with new frame (each frame should be a monthly group)\"\"\"\n",
    "    da = DS_xco2_monthly.xco2_var.isel(time=month)\n",
    "    \n",
    "    ax.clear()\n",
    "    cbar_ax.clear()\n",
    "    \n",
    "    ax.set_global()\n",
    "    xarray.plot.imshow(da.T, ax=ax, cbar_ax=cbar_ax,\n",
    "                        transform=ccrs.PlateCarree(),\n",
    "                        cmap=cmap,\n",
    "                        cbar_kwargs={\n",
    "                            \"orientation\": \"horizontal\", \n",
    "                            \"label\": \"XCO$_2$ variance [ppm]\"\n",
    "                        })\n",
    "    \n",
    "    ax.coastlines()\n",
    "    ax.set_title(\n",
    "    \"OCO-2 FP Lite: XCO$_2$ Variance\\n\" \n",
    "    \"QA flags applied, 1-degree Monthly Average \"\n",
    "    f\"{pd.to_datetime(da.time.values).strftime('%Y-%m-%d')}\"\n",
    "    )\n",
    "    \n",
    "\n",
    "mov = FuncAnimation(fig, animate, frames=DS_xco2_monthly.time.size, \n",
    "                    interval=500, fargs=(\"jet\", ))\n",
    "\n",
    "HTML(mov.to_html5_video())\n",
    "mov.save(\"../plots/XCO2_variance_1deg_monthly.mp4\", fps=2, dpi=250);"
   ]
  },
  {
   "cell_type": "code",
   "execution_count": null,
   "metadata": {},
   "outputs": [],
   "source": []
  }
 ],
 "metadata": {
  "kernelspec": {
   "display_name": "Python 3",
   "language": "python",
   "name": "python3"
  },
  "language_info": {
   "codemirror_mode": {
    "name": "ipython",
    "version": 3
   },
   "file_extension": ".py",
   "mimetype": "text/x-python",
   "name": "python",
   "nbconvert_exporter": "python",
   "pygments_lexer": "ipython3",
   "version": "3.7.9"
  }
 },
 "nbformat": 4,
 "nbformat_minor": 4
}
